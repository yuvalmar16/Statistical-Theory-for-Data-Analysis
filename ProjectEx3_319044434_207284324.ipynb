{
 "cells": [
  {
   "cell_type": "code",
   "execution_count": 36,
   "metadata": {},
   "outputs": [],
   "source": [
    "# Imports\n",
    "## For some arithmetic and Matrix Operations\n",
    "import numpy as np\n",
    "\n",
    "## Dataframe Manipulation\n",
    "import pandas as pd\n",
    "\n",
    "## For Visualization\n",
    "import matplotlib.pyplot as plt\n",
    "\n",
    "## For Visualization too\n",
    "import seaborn as sns\n",
    "\n",
    "## For Statistical Analysis\n",
    "from scipy import stats\n",
    "\n"
   ]
  },
  {
   "cell_type": "markdown",
   "metadata": {},
   "source": [
    "# Part 1 - Linear Regression"
   ]
  },
  {
   "cell_type": "markdown",
   "metadata": {},
   "source": [
    "<div dir=\"rtl\" style=\"text-align: right;\">\n",
    "לצורך חלק זה, נבחר ב3 משתנים מסבירים: מין - משתנה בדיד, צריכת אלכוהול חודשית - משתנה רציף וצריכת פירות חודשית - משתנה רציף ובמשתנה מוסבר אחד - מדד הBMI - משתנה רציף.\n",
    "</div>"
   ]
  },
  {
   "cell_type": "markdown",
   "metadata": {},
   "source": [
    "## Part 1.1\n",
    "    Defining the Hypothesis"
   ]
  },
  {
   "cell_type": "markdown",
   "metadata": {},
   "source": [
    "<div dir=\"rtl\" style=\"text-align: right;\">\n",
    " שאלת המחקר: כיצד משפיעים מין, צריכת אלכוהול חודשית וצריכת פירות חודשית על מדד הBMI?\n",
    "</div>"
   ]
  },
  {
   "cell_type": "markdown",
   "metadata": {},
   "source": [
    "## Part 1.2\n",
    "    Sampling a 200 sized data for the rest of the question"
   ]
  },
  {
   "cell_type": "code",
   "execution_count": 37,
   "metadata": {},
   "outputs": [
    {
     "data": {
      "text/html": [
       "<div>\n",
       "<style scoped>\n",
       "    .dataframe tbody tr th:only-of-type {\n",
       "        vertical-align: middle;\n",
       "    }\n",
       "\n",
       "    .dataframe tbody tr th {\n",
       "        vertical-align: top;\n",
       "    }\n",
       "\n",
       "    .dataframe thead th {\n",
       "        text-align: right;\n",
       "    }\n",
       "</style>\n",
       "<table border=\"1\" class=\"dataframe\">\n",
       "  <thead>\n",
       "    <tr style=\"text-align: right;\">\n",
       "      <th></th>\n",
       "      <th>Unnamed: 0</th>\n",
       "      <th>Heart_Disease</th>\n",
       "      <th>Sex</th>\n",
       "      <th>Depression</th>\n",
       "      <th>BMI</th>\n",
       "      <th>FriedPotato_Consumption</th>\n",
       "      <th>Alcohol_Consumption</th>\n",
       "      <th>Fruit_Consumption</th>\n",
       "    </tr>\n",
       "  </thead>\n",
       "  <tbody>\n",
       "    <tr>\n",
       "      <th>143684</th>\n",
       "      <td>143684</td>\n",
       "      <td>0</td>\n",
       "      <td>0</td>\n",
       "      <td>0</td>\n",
       "      <td>19.20</td>\n",
       "      <td>4.0</td>\n",
       "      <td>0.0</td>\n",
       "      <td>30.0</td>\n",
       "    </tr>\n",
       "    <tr>\n",
       "      <th>18803</th>\n",
       "      <td>18803</td>\n",
       "      <td>0</td>\n",
       "      <td>0</td>\n",
       "      <td>0</td>\n",
       "      <td>24.75</td>\n",
       "      <td>0.0</td>\n",
       "      <td>28.0</td>\n",
       "      <td>60.0</td>\n",
       "    </tr>\n",
       "    <tr>\n",
       "      <th>244431</th>\n",
       "      <td>244431</td>\n",
       "      <td>0</td>\n",
       "      <td>0</td>\n",
       "      <td>1</td>\n",
       "      <td>47.77</td>\n",
       "      <td>1.0</td>\n",
       "      <td>0.0</td>\n",
       "      <td>20.0</td>\n",
       "    </tr>\n",
       "    <tr>\n",
       "      <th>120543</th>\n",
       "      <td>120543</td>\n",
       "      <td>0</td>\n",
       "      <td>0</td>\n",
       "      <td>0</td>\n",
       "      <td>28.19</td>\n",
       "      <td>2.0</td>\n",
       "      <td>0.0</td>\n",
       "      <td>16.0</td>\n",
       "    </tr>\n",
       "    <tr>\n",
       "      <th>142511</th>\n",
       "      <td>142511</td>\n",
       "      <td>0</td>\n",
       "      <td>1</td>\n",
       "      <td>0</td>\n",
       "      <td>37.30</td>\n",
       "      <td>3.0</td>\n",
       "      <td>10.0</td>\n",
       "      <td>4.0</td>\n",
       "    </tr>\n",
       "  </tbody>\n",
       "</table>\n",
       "</div>"
      ],
      "text/plain": [
       "        Unnamed: 0  Heart_Disease  Sex  Depression    BMI  \\\n",
       "143684      143684              0    0           0  19.20   \n",
       "18803        18803              0    0           0  24.75   \n",
       "244431      244431              0    0           1  47.77   \n",
       "120543      120543              0    0           0  28.19   \n",
       "142511      142511              0    1           0  37.30   \n",
       "\n",
       "        FriedPotato_Consumption  Alcohol_Consumption  Fruit_Consumption  \n",
       "143684                      4.0                  0.0               30.0  \n",
       "18803                       0.0                 28.0               60.0  \n",
       "244431                      1.0                  0.0               20.0  \n",
       "120543                      2.0                  0.0               16.0  \n",
       "142511                      3.0                 10.0                4.0  "
      ]
     },
     "execution_count": 37,
     "metadata": {},
     "output_type": "execute_result"
    }
   ],
   "source": [
    "# Load the data\n",
    "df = pd.read_csv('df_for_proj (1).csv')\n",
    "\n",
    "df.head()\n",
    "\n",
    "# Picking a random sample of 200 rows.\n",
    "np.random.seed(314)\n",
    "df_sample = df.sample(200)\n",
    "df_sample.head()"
   ]
  },
  {
   "cell_type": "markdown",
   "metadata": {},
   "source": [
    "## Part 1.3 \n",
    "    Data visualization and analysis"
   ]
  },
  {
   "cell_type": "markdown",
   "metadata": {},
   "source": [
    "### Part 1.3.a+b"
   ]
  },
  {
   "cell_type": "code",
   "execution_count": 38,
   "metadata": {},
   "outputs": [],
   "source": [
    "# Part A - Plot a Histogram for the continuous variables and a table for the categorical variables.\n",
    "\n",
    "\n",
    "## Defining a new funtction for the visualization\n",
    "def visualize_numeric(column_name, title, num_of_bins, units, color):\n",
    "  hist_plot=df_sample[column_name].hist(bins=num_of_bins, color=color, edgecolor = \"black\",  grid = False)\n",
    "\n",
    "  mean_value = df_sample[column_name].mean()\n",
    "  plt.axvline(mean_value, color='mediumaquamarine', linestyle='dashed', linewidth=2, label='Mean')\n",
    "\n",
    "  ## Display the plot\n",
    "  plt.title(title + 'Distribution',  size = 15, fontweight = \"bold\")\n",
    "  plt.xlabel(title + '['+units+']')\n",
    "  #hist_plot.set_yscale('log') # Log scale the Y-axis\n",
    "  plt.ylabel('Count')\n",
    "\n",
    "  plt.legend()  # Display legend with the label for the mean line\n",
    "\n",
    "  plt.show()\n"
   ]
  },
  {
   "cell_type": "code",
   "execution_count": 39,
   "metadata": {},
   "outputs": [
    {
     "data": {
      "image/png": "[encoded data removed]",
      "text/plain": [
       "<Figure size 640x480 with 1 Axes>"
      ]
     },
     "metadata": {},
     "output_type": "display_data"
    }
   ],
   "source": [
    "visualize_numeric('Alcohol_Consumption','Alcohol Consumption ', 12, 'units per month', 'royalblue')"
   ]
  },
  {
   "cell_type": "markdown",
   "metadata": {},
   "source": [
    "<div dir=\"rtl\" style=\"text-align: right;\">\n",
    "מההיסטוגרמה, נשים לב שרוב האנשים לא צורכים אלכוהול, או צורכים בכמות מעטה מאוד ביחידות של ליטרים בחודש. במקרה זה, לא נסיק שקיימים ערכים חריגים בצריכת האלכוהול, מאחר שהפיזור של הערכים השונים מ0 מאוזן באופן יחסי. ניתן לראות שהנתונים מגיעים ככל הנראה מהתפלגות עם זנב ימני ארוך, סיבה שגם במקרה זה גורמת להיסטוגרה להציג אותם בצורה טובה יותר מתצוגות אחרות.\n",
    "</div>"
   ]
  },
  {
   "cell_type": "code",
   "execution_count": 40,
   "metadata": {},
   "outputs": [
    {
     "data": {
      "image/png": "[encoded data removed]",
      "text/plain": [
       "<Figure size 640x480 with 1 Axes>"
      ]
     },
     "metadata": {},
     "output_type": "display_data"
    }
   ],
   "source": [
    "visualize_numeric('Fruit_Consumption','Fruit Consumption ', 12, 'fruits per month', 'royalblue')"
   ]
  },
  {
   "cell_type": "markdown",
   "metadata": {},
   "source": [
    "<div dir=\"rtl\" style=\"text-align: right;\">\n",
    "\n",
    "מההיסטוגרמה, עולה כי רוב האנשים צורכים כ30 פירות בחודש. קיימים מספר ערכי צריכה חריגים של כ80-120 פירות בחודש לאדם. קשה להעריך מאיזו התפלגות מגיעים הנתונים .\n",
    "\n",
    "\n",
    "\n",
    "</div>"
   ]
  },
  {
   "cell_type": "code",
   "execution_count": 41,
   "metadata": {},
   "outputs": [
    {
     "data": {
      "image/png": "[encoded data removed]",
      "text/plain": [
       "<Figure size 640x480 with 1 Axes>"
      ]
     },
     "metadata": {},
     "output_type": "display_data"
    }
   ],
   "source": [
    "visualize_numeric('BMI','BMI ', 12, 'kg/m^2', 'royalblue')"
   ]
  },
  {
   "cell_type": "markdown",
   "metadata": {},
   "source": [
    "<div dir=\"rtl\" style=\"text-align: right;\">\n",
    "\n",
    "מההיסטוגרמה, נשים לב שרוב האנשים נמצאים בטווח של BMI שבין 25-30, כלומר מוגדרים ב''עודף משקל''. נשים לב שהערכים מתפלגים בצורה שמזכירה התפלגות א-סימטרית עם זנב ימני ארוך יותר מהשמאלי (כדוגמת התפלגות כי בריבוע למשל) ואופן הצגת הנתונים באופן היסטוגרמי מנדב מידע רב יותר כאשר בוחרים להסתכל על הBMI כמדד רציף ולא כמשתנה קטגוריאלי לפי תלות בקטגוריות סיווג המשקל השונות.\n",
    "\n",
    "\n",
    "\n",
    "</div>"
   ]
  },
  {
   "cell_type": "code",
   "execution_count": 42,
   "metadata": {},
   "outputs": [
    {
     "data": {
      "text/html": [
       "<div>\n",
       "<style scoped>\n",
       "    .dataframe tbody tr th:only-of-type {\n",
       "        vertical-align: middle;\n",
       "    }\n",
       "\n",
       "    .dataframe tbody tr th {\n",
       "        vertical-align: top;\n",
       "    }\n",
       "\n",
       "    .dataframe thead th {\n",
       "        text-align: right;\n",
       "    }\n",
       "</style>\n",
       "<table border=\"1\" class=\"dataframe\">\n",
       "  <thead>\n",
       "    <tr style=\"text-align: right;\">\n",
       "      <th></th>\n",
       "      <th>Sex</th>\n",
       "      <th>Count</th>\n",
       "    </tr>\n",
       "  </thead>\n",
       "  <tbody>\n",
       "    <tr>\n",
       "      <th>0</th>\n",
       "      <td>female</td>\n",
       "      <td>109</td>\n",
       "    </tr>\n",
       "    <tr>\n",
       "      <th>1</th>\n",
       "      <td>male</td>\n",
       "      <td>91</td>\n",
       "    </tr>\n",
       "  </tbody>\n",
       "</table>\n",
       "</div>"
      ],
      "text/plain": [
       "      Sex  Count\n",
       "0  female    109\n",
       "1    male     91"
      ]
     },
     "metadata": {},
     "output_type": "display_data"
    }
   ],
   "source": [
    "# build Table for the categorical variable 'Sex' with counts for male and female\n",
    "sex_df=df_sample.groupby('Sex').size().reset_index(name='Count').sort_values(by='Count', ascending=False)\n",
    "# rename columns: 0 -> Female, 1 -> Male.\n",
    "sex_df=sex_df.replace({1:'male',0: 'female'})\n",
    "## Display the table\n",
    "display(sex_df)"
   ]
  },
  {
   "cell_type": "markdown",
   "metadata": {},
   "source": [
    "<div dir=\"rtl\" style=\"text-align: right;\">\n",
    "\n",
    "מהטבלה, הכמויות כמעט שוות בין 2 המינים, לכן נוכל להסיק שהערכים הוגרלו מהתפלגות אחידה\n",
    "\n",
    "\n",
    "\n",
    "</div>"
   ]
  },
  {
   "cell_type": "markdown",
   "metadata": {},
   "source": [
    "<div dir=\"rtl\" style=\"text-align: right;\">\n",
    "נשים לב כי אין לנו נתונים חסרים כיוון שהדאטה שאנחנו עובדים איתו הוא דאטה שניקינו בפרויקטים הקודמים.\n",
    "</div>"
   ]
  },
  {
   "cell_type": "markdown",
   "metadata": {},
   "source": [
    "### Part 1.3.c"
   ]
  },
  {
   "cell_type": "code",
   "execution_count": 43,
   "metadata": {},
   "outputs": [
    {
     "data": {
      "image/png": "[encoded data removed]",
      "text/plain": [
       "<Figure size 800x600 with 1 Axes>"
      ]
     },
     "metadata": {},
     "output_type": "display_data"
    }
   ],
   "source": [
    "# plotting a graph of the categorical as a function of the continuous variable for each of the 3 continuous variables\n",
    "\n",
    "## Defining a new funtction for the visualization\n",
    "def plot_variable_vs_bmi(x, y, title, units):\n",
    "    \"\"\"\n",
    "    This function plots fruit consumption vs BMI.\n",
    "    \n",
    "    :param x: A sequence of fruit consumption values.\n",
    "    :param y: A sequence of BMI values.\n",
    "    :param title: The title of the plot.\n",
    "    \"\"\"\n",
    "    plt.figure(figsize=(8, 6))\n",
    "    plt.scatter(x, y, color='dodgerblue', marker='o', alpha=0.6)\n",
    "    plt.title(f\"{title} vs BMI\")\n",
    "    plt.xlabel(f\"{title} ({units})\")\n",
    "    plt.ylabel(\"BMI\")\n",
    "    plt.grid(True)\n",
    "    plt.show()\n",
    "\n",
    "## Plotting the BMI per Fruit consumption graph\n",
    "fruit_consumption = df_sample['Fruit_Consumption'] \n",
    "bmi_values = df_sample['BMI']\n",
    "plot_variable_vs_bmi(fruit_consumption, bmi_values, \"Fruit Consumption\", \"Fruits per month\")"
   ]
  },
  {
   "cell_type": "code",
   "execution_count": 44,
   "metadata": {},
   "outputs": [
    {
     "data": {
      "image/png": "[encoded data removed]",
      "text/plain": [
       "<Figure size 800x600 with 1 Axes>"
      ]
     },
     "metadata": {},
     "output_type": "display_data"
    }
   ],
   "source": [
    "## Plotting the BMI per Alcohol consumption graph\n",
    "alcohol_consumption = df_sample['Alcohol_Consumption'] \n",
    "bmi_values = df_sample['BMI']\n",
    "plot_variable_vs_bmi(alcohol_consumption, bmi_values, \"Alcohol Consumption\", \"Units per month\")"
   ]
  },
  {
   "cell_type": "code",
   "execution_count": 45,
   "metadata": {},
   "outputs": [
    {
     "name": "stdout",
     "output_type": "stream",
     "text": [
      "The Spearman correlation coefficient between Fruit Consumption and BMI is -0.09, with a p-value of 0.22\n",
      "The Spearman correlation coefficient between Alcohol Consumption and BMI is -0.12, with a p-value of 0.08\n"
     ]
    }
   ],
   "source": [
    "# Calculate the correlation coefficient for the 2 pairs of variables with Spearman's method and p-value.\n",
    "## Correlation coefficient for Fruit Consumption and BMI\n",
    "fruit_bmi_corr, fruit_bmi_pval = stats.spearmanr(fruit_consumption, bmi_values)\n",
    "print(f\"The Spearman correlation coefficient between Fruit Consumption and BMI is {fruit_bmi_corr:.2f}, with a p-value of {fruit_bmi_pval:.2f}\")\n",
    "\n",
    "\n",
    "## Correlation coefficient for Alcohol Consumption and BMI\n",
    "alcohol_bmi_corr, alcohol_bmi_pval = stats.spearmanr(alcohol_consumption, bmi_values)\n",
    "print(f\"The Spearman correlation coefficient between Alcohol Consumption and BMI is {alcohol_bmi_corr:.2f}, with a p-value of {alcohol_bmi_pval:.2f}\")"
   ]
  },
  {
   "cell_type": "markdown",
   "metadata": {},
   "source": [
    "<div dir=\"rtl\" style=\"text-align: right;\">\n",
    "\n",
    "ניתן להסיק מהגרפים כי הנתונים מאוד מפוזרים ולא עוקבים אחרי מגמת עלייה או ירידה לינארית כללית. מתוצאות מבחן ספירמן לקשר בין משתנים רציפים, נסיק כי אין קשר בין 2 המשתנים, גם עבור צריכת האלכוהול והBMI וגם עבור צריכת הפירות והBMI.\n",
    "לפי הp-val, לא נדחה את השערת ה0 בכל רמת מובהקות סבירה, כלומר אין קשר בין המשתנים על פי השערת האפס במבחן ספירמן.\n",
    "\n",
    "\n",
    "\n",
    "</div>"
   ]
  },
  {
   "cell_type": "markdown",
   "metadata": {},
   "source": [
    "### Part 1.3.d"
   ]
  },
  {
   "cell_type": "code",
   "execution_count": 46,
   "metadata": {},
   "outputs": [
    {
     "data": {
      "image/png": "[encoded data removed]",
      "text/plain": [
       "<Figure size 640x480 with 1 Axes>"
      ]
     },
     "metadata": {},
     "output_type": "display_data"
    }
   ],
   "source": [
    "# Plot a boxplot for the continuous variable 'BMI' as a function of the categorical variable 'sex'.\n",
    "## Plotting the boxplot\n",
    "plt.boxplot([df_sample[df_sample['Sex']==0]['BMI'], df_sample[df_sample['Sex']==1]['BMI']], labels=['female', 'male'], showmeans=True, meanline=True, patch_artist=True, boxprops=dict(facecolor='lightblue'))\n",
    "plt.title('BMI Distribution per sex')\n",
    "plt.ylabel('BMI')\n",
    "plt.xlabel('sex')\n",
    "plt.show()\n",
    "\n",
    "# plotting 2 histograms on one plot for the continuous variable 'BMI' as a function of male and female.\n",
    "## Plotting the histograms\n",
    "\n"
   ]
  },
  {
   "cell_type": "markdown",
   "metadata": {},
   "source": [
    "<div dir=\"rtl\" style=\"text-align: right;\">\n",
    "\n",
    "ניתן לראות מהתרשים כי החציון והממוצע של BMI של גברים גבוה יותר מאשר נשים ויש יותר ערכים חריגים עבור נשים.\n",
    "ניתן לראות שהBMI של גברים מפולג באופן שהוא יחסית סימטרי עם שונות שווה מכל צד של הממוצע ואילו עבור הנשים יש זנב ימני וההתפלגות ככל הנראה לא סימטרית.\n",
    "לא בחרנו להציג היסטוגרמה שכן הזנב בהתפלגות BMI של נשים לא ארוך מדי ולכן היסטוגרמה לא תוכל להוסיף מידע נוסף שלא נוכל למצות מתוך הbox-plot\n",
    "\n",
    "\n",
    "\n",
    "</div>"
   ]
  },
  {
   "cell_type": "markdown",
   "metadata": {},
   "source": [
    "## Part 1.4\n",
    "    Calculating the coefficients vector beta for the Linear regression"
   ]
  },
  {
   "cell_type": "code",
   "execution_count": 47,
   "metadata": {},
   "outputs": [
    {
     "name": "stdout",
     "output_type": "stream",
     "text": [
      "The coefficients vector beta for the linear regression model BMI ~ X1:Alcohol Consumption , X2:Fruit Consumption, X3:Sex is: [-8.57990328e-02 -1.11878202e-02  1.95056386e+00  2.83024281e+01]\n",
      "The regression model is: y=-0.08579903284792036*X1 + -0.01118782018341976*X2 + 1.950563857302633*X3 + 28.30242808086157\n"
     ]
    }
   ],
   "source": [
    "# calculate the coeeficients vector beta for the linear regression model BMI ~ Alcohol Consumption, Fruit Consumption, Sex.\n",
    "\n",
    "# Split data into features and target\n",
    "X=df_sample[['Alcohol_Consumption','Fruit_Consumption', 'Sex']]\n",
    "# Adapt the target to the logistic regression\n",
    "y=df_sample['BMI']\n",
    "# Adding column of ones to the features\n",
    "X=X.assign(ones=1)\n",
    "\n",
    "# Convert the data to numpy arrays\n",
    "X = X.values\n",
    "y = y.values\n",
    "y=y.reshape([y.shape[0],]) # Reshape y to 1D array\n",
    "\n",
    "# Calculate the coefficients vector beta\n",
    "beta = np.linalg.inv(X.T @ X) @ X.T @ y # b = (X^T * X)^-1 * X^T * y\n",
    "print(f\"The coefficients vector beta for the linear regression model BMI ~ X1:Alcohol Consumption , X2:Fruit Consumption, X3:Sex is: {beta}\")\n",
    "print(f'The regression model is: y={beta[0]}*X1 + {beta[1]}*X2 + {beta[2]}*X3 + {beta[3]}')\n",
    "\n"
   ]
  },
  {
   "cell_type": "markdown",
   "metadata": {},
   "source": [
    "<div dir=\"rtl\" style=\"text-align: right;\">\n",
    " השפעת הערכים המסבירים:\n",
    "\n",
    "*   **Alcohol_consumption':** אם נעלה את צריכת האלכוהול ביחידה אחת ולא נשנה את שאר המשתנים המסבירים, ערך המשתנה המוסבר יקטן ב0.0858 יחידות.\n",
    "\n",
    "*   **Fruit_consumption':** אם נעלה את צריכת הפירות ביחידה אחת ולא נשנה את שאר המשתנים המסבירים, ערך המשתנה המוסבר יקטן ב0.0112\n",
    "\n",
    "*   **Sex:** משתנה בינארי - מקבל ערכים של 0 או 1, לכן אם נעלה את המשתנה של מין ביחידה אחת (מ0 ל-1 כלומר מנקבה לזכר) בלי לשנות את שאר המשתנים המסבירים, ערך המשתנה המוסבר יעלה ב1.95.\n",
    "\n",
    "</div>\n"
   ]
  },
  {
   "cell_type": "markdown",
   "metadata": {},
   "source": [
    "## Part 1.5\n",
    "    ANOVA table, F statistic, R and R_adj"
   ]
  },
  {
   "cell_type": "code",
   "execution_count": 48,
   "metadata": {},
   "outputs": [
    {
     "data": {
      "text/html": [
       "<div>\n",
       "<style scoped>\n",
       "    .dataframe tbody tr th:only-of-type {\n",
       "        vertical-align: middle;\n",
       "    }\n",
       "\n",
       "    .dataframe tbody tr th {\n",
       "        vertical-align: top;\n",
       "    }\n",
       "\n",
       "    .dataframe thead th {\n",
       "        text-align: right;\n",
       "    }\n",
       "</style>\n",
       "<table border=\"1\" class=\"dataframe\">\n",
       "  <thead>\n",
       "    <tr style=\"text-align: right;\">\n",
       "      <th></th>\n",
       "      <th>Source of Variation</th>\n",
       "      <th>Sum of Squares</th>\n",
       "      <th>Degrees of Freedom</th>\n",
       "      <th>Mean Square</th>\n",
       "      <th>F-statistic</th>\n",
       "    </tr>\n",
       "  </thead>\n",
       "  <tbody>\n",
       "    <tr>\n",
       "      <th>0</th>\n",
       "      <td>Regression</td>\n",
       "      <td>336.539413</td>\n",
       "      <td>3</td>\n",
       "      <td>112.179804</td>\n",
       "      <td>3.000413</td>\n",
       "    </tr>\n",
       "    <tr>\n",
       "      <th>1</th>\n",
       "      <td>Error</td>\n",
       "      <td>7328.072187</td>\n",
       "      <td>196</td>\n",
       "      <td>37.388123</td>\n",
       "      <td>NaN</td>\n",
       "    </tr>\n",
       "    <tr>\n",
       "      <th>2</th>\n",
       "      <td>Total</td>\n",
       "      <td>7664.611600</td>\n",
       "      <td>199</td>\n",
       "      <td>38.515636</td>\n",
       "      <td>NaN</td>\n",
       "    </tr>\n",
       "  </tbody>\n",
       "</table>\n",
       "</div>"
      ],
      "text/plain": [
       "  Source of Variation  Sum of Squares  Degrees of Freedom  Mean Square  \\\n",
       "0          Regression      336.539413                   3   112.179804   \n",
       "1               Error     7328.072187                 196    37.388123   \n",
       "2               Total     7664.611600                 199    38.515636   \n",
       "\n",
       "   F-statistic  \n",
       "0     3.000413  \n",
       "1          NaN  \n",
       "2          NaN  "
      ]
     },
     "execution_count": 48,
     "metadata": {},
     "output_type": "execute_result"
    }
   ],
   "source": [
    "# Filling the ANOVA table\n",
    "n=y.shape[0]\n",
    "p=X.shape[1]\n",
    "\n",
    "Y_hat = X @ beta # Predicted values\n",
    "SSR= np.sum((Y_hat-np.mean(y))**2) # Sum of squares due to Regression\n",
    "SSE= np.sum((y-Y_hat)**2) # Sum of squares due to Error\n",
    "SST= SSR + SSE # Total Sum of squares\n",
    "df_Regression = p-1 # degrees of freedom for Regression\n",
    "df_Error = n-p # degrees of freedom for Error\n",
    "df_Total = n-1 # degrees of freedom for Total\n",
    "\n",
    "MSR= SSR/df_Regression # Mean Square for Regression\n",
    "\n",
    "MSE= SSE/df_Error # Mean Square for Error\n",
    "MST = SST/df_Total # Mean Square for Total\n",
    "F= MSR/MSE # F-statistic\n",
    "p_value = 1 - stats.f.cdf(F, df_Regression, df_Error) # p-value for the F-statistic\n",
    "# Creating the ANOVA table\n",
    "ANOVA_table = pd.DataFrame({'Source of Variation':['Regression','Error','Total'],'Sum of Squares':[SSR,SSE,SST],'Degrees of Freedom':[df_Regression,df_Error,df_Total],'Mean Square':[MSR,MSE,MST],'F-statistic':[F,np.nan,np.nan]})\n",
    "ANOVA_table.head()\n"
   ]
  },
  {
   "cell_type": "code",
   "execution_count": 49,
   "metadata": {},
   "outputs": [
    {
     "name": "stdout",
     "output_type": "stream",
     "text": [
      "The R-squared for the linear regression model BMI ~ (Alcohol Consumption, Fruit Consumption, Sex) is: 0.04\n",
      "The adjusted R-squared for the linear regression model BMI ~ (Alcohol Consumption, Fruit Consumption, Sex) is: 0.03\n",
      "The F-statistic for the linear regression model BMI ~ (Alcohol Consumption, Fruit Consumption, Sex) is: 3.00, with a p-value of 0.03173935980721376\n"
     ]
    }
   ],
   "source": [
    "R_squared = SSR / SST\n",
    "R_squared_adjusted = 1-(MSE/MST)\n",
    "print(f\"The R-squared for the linear regression model BMI ~ (Alcohol Consumption, Fruit Consumption, Sex) is: {R_squared:.2f}\")\n",
    "print(f\"The adjusted R-squared for the linear regression model BMI ~ (Alcohol Consumption, Fruit Consumption, Sex) is: {R_squared_adjusted:.2f}\")\n",
    "print(f\"The F-statistic for the linear regression model BMI ~ (Alcohol Consumption, Fruit Consumption, Sex) is: {F:.2f}, with a p-value of {p_value}\")\n"
   ]
  },
  {
   "cell_type": "markdown",
   "metadata": {},
   "source": [
    "## Part 1.6\n",
    "    Confidence intervals for the Regression coefficients and calculations of beta for the complete dataset"
   ]
  },
  {
   "cell_type": "code",
   "execution_count": 50,
   "metadata": {},
   "outputs": [],
   "source": [
    "# A boolean function to recognize if the coefficient estimation is in the CI\n",
    "def is_in_CI(CI, beta):\n",
    "    \"\"\"\n",
    "    This function checks if the coefficient estimation is in the confidence interval.\n",
    "    \n",
    "    :param CI: A list of the confidence interval.\n",
    "    :param beta: The coefficient estimation.\n",
    "    :return: A boolean value.\n",
    "    \"\"\"\n",
    "    return CI[0] <= beta <= CI[1]"
   ]
  },
  {
   "cell_type": "code",
   "execution_count": 102,
   "metadata": {},
   "outputs": [],
   "source": [
    "# Calculating the confidence intervals for the coefficients vector beta for the linear regression model BMI ~ (Alcohol Consumption, Fruit Consumption, Sex) with confidence level of 95%.\n",
    "residuals = y - Y_hat # Residuals\n",
    "# Calculate the standard error of the coefficients\n",
    "sigma = np.sqrt(np.sum(residuals**2)/(n-p)) # Residual standard error\n",
    "C = np.linalg.inv(X.T @ X) # Covariance matrix\n",
    "SE = np.sqrt(np.diag(C))*sigma # Standard errors\n",
    "# Calculate the t-statistics\n",
    "t = beta/SE # t-statistics\n",
    "# Calculate the p-values\n",
    "p_value = 2*(1 - stats.t.cdf(np.abs(t), df_Error)) # p-values\n",
    "\n",
    "\n",
    "\n"
   ]
  },
  {
   "cell_type": "code",
   "execution_count": 52,
   "metadata": {},
   "outputs": [
    {
     "name": "stdout",
     "output_type": "stream",
     "text": [
      "The coefficients vector beta based on the complete data for the linear regression model BMI ~ X1:Alcohol Consumption , X2:Fruit Consumption, X3:Sex is: [-8.91069324e-02 -2.00095994e-02  2.40399772e-01  2.95616130e+01]\n",
      "The regression model is: y=-0.08910693238490569*X1 + -0.020009599368106937*X2 + 0.24039977209379837*X3 + 29.561612957195074\n"
     ]
    }
   ],
   "source": [
    "\n",
    "#calculate the beta coeffient on the full dataset\n",
    "# Split data into features and target\n",
    "X_full=df[['Alcohol_Consumption','Fruit_Consumption', 'Sex']]\n",
    "Y_full=df['BMI']\n",
    "# Adding column of ones to the features\n",
    "X_full=X_full.assign(ones=1) \n",
    "# Convert the data to numpy arrays\n",
    "X_full = X_full.values\n",
    "Y_full = Y_full.values\n",
    "Y_full=Y_full.reshape([Y_full.shape[0],]) # Reshape y to 1D array\n",
    "\n",
    "# Calculate the coefficients vector beta\n",
    "beta_full = np.linalg.inv(X_full.T @ X_full) @ X_full.T @ Y_full # b = (X^T * X)^-1 * X^T * y\n",
    "print(f\"The coefficients vector beta based on the complete data for the linear regression model BMI ~ X1:Alcohol Consumption , X2:Fruit Consumption, X3:Sex is: {beta_full}\")\n",
    "print(f'The regression model is: y={beta_full[0]}*X1 + {beta_full[1]}*X2 + {beta_full[2]}*X3 + {beta_full[3]}')\n",
    "\n"
   ]
  },
  {
   "cell_type": "code",
   "execution_count": 53,
   "metadata": {},
   "outputs": [
    {
     "name": "stdout",
     "output_type": "stream",
     "text": [
      "The 95% confidence interval for the coefficient of Alcohol Consumption is: [-0.1891685249927894, 0.017570459296948684]\n",
      "Is the coefficient estimation based on the complete data in the confidence interval? True\n",
      "The 95% confidence interval for the coefficient of Fruit Consumption is: [-0.04713484604014679, 0.02475920567330727]\n",
      "Is the coefficient estimation based on the complete data in the confidence interval? True\n",
      "The 95% confidence interval for the coefficient of Sex is: [0.22702967053080503, 3.674098044074461]\n",
      "Is the coefficient estimation based on the complete data in the confidence interval? True\n"
     ]
    }
   ],
   "source": [
    "se_alcohol=SE[0]\n",
    "se_fruit=SE[1]\n",
    "se_sex=SE[2]\n",
    "#calculate the confidence intervals for beta_j with confidence level of 95%\n",
    "CI_alcohol=[beta[0]-stats.t.ppf(0.975, df_Error)*se_alcohol, beta[0]+stats.t.ppf(0.975, df_Error)*se_alcohol]\n",
    "CI_fruit=[beta[1]-stats.t.ppf(0.975, df_Error)*se_fruit, beta[1]+stats.t.ppf(0.975, df_Error)*se_fruit]\n",
    "CI_sex=[beta[2]-stats.t.ppf(0.975, df_Error)*se_sex, beta[2]+stats.t.ppf(0.975, df_Error)*se_sex]\n",
    "print(f\"The 95% confidence interval for the coefficient of Alcohol Consumption is: {CI_alcohol}\")\n",
    "print(f\"Is the coefficient estimation based on the complete data in the confidence interval? {is_in_CI(CI_alcohol, beta_full[0])}\")\n",
    "print(f\"The 95% confidence interval for the coefficient of Fruit Consumption is: {CI_fruit}\")\n",
    "print(f\"Is the coefficient estimation based on the complete data in the confidence interval? {is_in_CI(CI_fruit, beta_full[1])}\")\n",
    "print(f\"The 95% confidence interval for the coefficient of Sex is: {CI_sex}\")\n",
    "print(f\"Is the coefficient estimation based on the complete data in the confidence interval? {is_in_CI(CI_sex, beta_full[2])}\")\n"
   ]
  },
  {
   "cell_type": "markdown",
   "metadata": {},
   "source": [
    "## Part 1.7\n",
    "    Wald test for the sample coefficients"
   ]
  },
  {
   "cell_type": "markdown",
   "metadata": {},
   "source": [
    "<div dir=\"rtl\" style=\"text-align: right;\">\n",
    "נשתמש במבחן וולד על מקדמי הרגרסיה כפי שראינו בכיתה:\n",
    "</div>\n",
    "\n",
    "<br> $H_0: \\beta_j = 0 \\quad \\forall j \\in \\{1,2,3\\}$\n",
    "\n",
    "$H_1: \\beta_j \\neq 0 \\quad \\forall j \\in \\{1,2,3\\}$\n",
    "\n",
    "$T.S.: W = \\frac{(\\hat{\\beta}_j - \\beta_j)}{\\hat{s.e}}$\n",
    "\n",
    "$R.R.: |W| > z_{\\alpha/2}$ </br>"
   ]
  },
  {
   "cell_type": "code",
   "execution_count": 54,
   "metadata": {},
   "outputs": [
    {
     "name": "stdout",
     "output_type": "stream",
     "text": [
      "\n",
      "Wald test for Alcohol Consumption coefficent:\n",
      "Wald statistic for test is: W=-1.6369221319261353\n",
      "Wald test quantile: z=1.959963984540054\n",
      "P value: 0.10164674088430051\n",
      "is in Rejection zone? False\n",
      "\n",
      "Wald test for Fruit Consumption coefficent:\n",
      "Wald statistic for test is: W=-0.6137910115895507\n",
      "Wald test quantile: z=1.959963984540054\n",
      "P value: 0.5393534376372826\n",
      "is in Rejection zone? False\n",
      "\n",
      "Wald test for Sex coefficent:\n",
      "Wald statistic for test is: W=2.231918239852666\n",
      "Wald test quantile: z=1.959963984540054\n",
      "P value: 0.02562036714047716\n",
      "is in Rejection zone? True\n"
     ]
    }
   ],
   "source": [
    "def wald_test(beta, SE):\n",
    "    \"\"\"\n",
    "    This function calculates the Wald test for the coefficients.\n",
    "    \n",
    "    :param beta: The coefficient estimation.\n",
    "    :param SE: The standard error.\n",
    "    :return: The Wald test statistic and the p-value.\n",
    "    \"\"\"\n",
    "    Wald_statistic = beta/SE # Wald test statistic\n",
    "    wald_test_quantile = stats.norm.ppf(0.975) # Wald test quantile for 95% confidence level\n",
    "    Wald_p_value = 2*stats.norm.cdf(-abs(Wald_statistic)) # Wald test p-value\n",
    "    return Wald_statistic, wald_test_quantile, Wald_p_value\n",
    "\n",
    "\n",
    "\n",
    "print()\n",
    "def print_results(Wald_statistic, wald_test_quantile, Wald_p_value):\n",
    "    print(\"Wald statistic for test is: W=\"+ str(Wald_statistic))\n",
    "    print(\"Wald test quantile: z=\" + str(wald_test_quantile))\n",
    "    print(\"P value: \" +  str(Wald_p_value))\n",
    "    print(\"is in Rejection zone? \"  + str(abs(Wald_statistic)>wald_test_quantile))\n",
    "\n",
    "\n",
    "Wald_statistic_alcohol, wald_test_quantile_alcohol, Wald_p_value_alcohol = wald_test(beta[0], SE[0])\n",
    "print(\"Wald test for Alcohol Consumption coefficent:\")\n",
    "print_results(Wald_statistic_alcohol, wald_test_quantile_alcohol, Wald_p_value_alcohol)\n",
    "print()\n",
    "wald_statistic_fruit, wald_test_quantile_fruit, Wald_p_value_fruit= wald_test(beta[1], SE[1])\n",
    "print(\"Wald test for Fruit Consumption coefficent:\")\n",
    "print_results(wald_statistic_fruit, wald_test_quantile_fruit, Wald_p_value_fruit)\n",
    "print()\n",
    "wald_statistic_sex, wald_test_quantile_sex, Wald_p_value_sex= wald_test(beta[2], SE[2])\n",
    "print(\"Wald test for Sex coefficent:\")\n",
    "print_results(wald_statistic_sex, wald_test_quantile_sex, Wald_p_value_sex)\n",
    "\n",
    "\n"
   ]
  },
  {
   "cell_type": "markdown",
   "metadata": {},
   "source": [
    "<div dir=\"rtl\" style=\"text-align: right;\">\n",
    "מהמבחן ניתן לראות כי נדחה את השערת האפס רק עבור המקדם של \"Sex\". כלומר, מהמבחן הכולל שניסחנו, כיוון שלא כל המקדמים שווים לאפס, נדחה את השערת האפס ברמת בטחון 95%.\n",
    "</div>"
   ]
  },
  {
   "cell_type": "markdown",
   "metadata": {},
   "source": [
    "## Part 1.8\n",
    "    Checking if the Linear model assumptions hold"
   ]
  },
  {
   "cell_type": "code",
   "execution_count": 55,
   "metadata": {},
   "outputs": [
    {
     "data": {
      "image/png": "[encoded data removed]",
      "text/plain": [
       "<Figure size 640x480 with 1 Axes>"
      ]
     },
     "metadata": {},
     "output_type": "display_data"
    },
    {
     "data": {
      "image/png": "[encoded data removed]",
      "text/plain": [
       "<Figure size 640x480 with 1 Axes>"
      ]
     },
     "metadata": {},
     "output_type": "display_data"
    }
   ],
   "source": [
    "import scipy.stats as stats\n",
    "# Checking the linear model assumptions : Linearity, Homoscedasticity, Independence of errors, Normality of errors.\n",
    "\n",
    "# Linearity and Homoscedasticity will be checked by using residual analysis\n",
    "plt.scatter(Y_hat,residuals) # calculated residuals before\n",
    "plt.xlabel('Fitted Values')\n",
    "plt.ylabel('Residuals')\n",
    "plt.title('Residuals vs Fitted Values')\n",
    "plt.axhline(y=0, color='r', linestyle='-') # plotting the line y=0 on the graph\n",
    "plt.show()\n",
    "\n",
    "# Checking the Normality of errors using a Q-Q plot\n",
    "stats.probplot(residuals, dist=\"norm\", plot=plt)\n",
    "plt.title('Normal Q-Q plot')\n",
    "plt.show()\n"
   ]
  },
  {
   "cell_type": "markdown",
   "metadata": {},
   "source": [
    "<div dir=\"rtl\" style=\"text-align: right;\">\n",
    "   \n",
    "\n",
    "*   **הומוקסקדסטיות:** ניתן לראות מגרף השאריות כי הנקודות מפוזרות באופן יחסית שווה ביחס לישר y=0, כך שההנחה של הומוסקדסטיות מתקיימת. (הנחת שיוויון שונויות סבירה).\n",
    "\n",
    "*   **לינאריות:** יש מספר שווה של נקודות מכל צד של הישר y=0 ובערך באותו קו, כך שההפרשים בין הנקודות \"מתבטלים\", ולכן הנחת הלינאריות מתקיימת.\n",
    "*   **נורמליות:** מהQQ-plot נוכל להניח בבטחה שהרעש מגיע מהתפלגות נורמלית.\n",
    "\n",
    "</div>"
   ]
  },
  {
   "cell_type": "markdown",
   "metadata": {},
   "source": [
    "## Part 1.9\n",
    "    Calculating predictions, CI and CI percentage for a 1000 sized sample excludng the previous 200 sized sample."
   ]
  },
  {
   "cell_type": "markdown",
   "metadata": {},
   "source": [
    "### Part 1.9.A\n",
    "    Predicting the point's value given X_new"
   ]
  },
  {
   "cell_type": "code",
   "execution_count": 56,
   "metadata": {},
   "outputs": [
    {
     "data": {
      "text/html": [
       "<div>\n",
       "<style scoped>\n",
       "    .dataframe tbody tr th:only-of-type {\n",
       "        vertical-align: middle;\n",
       "    }\n",
       "\n",
       "    .dataframe tbody tr th {\n",
       "        vertical-align: top;\n",
       "    }\n",
       "\n",
       "    .dataframe thead th {\n",
       "        text-align: right;\n",
       "    }\n",
       "</style>\n",
       "<table border=\"1\" class=\"dataframe\">\n",
       "  <thead>\n",
       "    <tr style=\"text-align: right;\">\n",
       "      <th></th>\n",
       "      <th>Unnamed: 0</th>\n",
       "      <th>Heart_Disease</th>\n",
       "      <th>Sex</th>\n",
       "      <th>Depression</th>\n",
       "      <th>BMI</th>\n",
       "      <th>FriedPotato_Consumption</th>\n",
       "      <th>Alcohol_Consumption</th>\n",
       "      <th>Fruit_Consumption</th>\n",
       "    </tr>\n",
       "  </thead>\n",
       "  <tbody>\n",
       "    <tr>\n",
       "      <th>173569</th>\n",
       "      <td>173569</td>\n",
       "      <td>0</td>\n",
       "      <td>0</td>\n",
       "      <td>0</td>\n",
       "      <td>39.48</td>\n",
       "      <td>1.0</td>\n",
       "      <td>0.0</td>\n",
       "      <td>30.0</td>\n",
       "    </tr>\n",
       "    <tr>\n",
       "      <th>10290</th>\n",
       "      <td>10290</td>\n",
       "      <td>0</td>\n",
       "      <td>1</td>\n",
       "      <td>1</td>\n",
       "      <td>27.37</td>\n",
       "      <td>4.0</td>\n",
       "      <td>0.0</td>\n",
       "      <td>5.0</td>\n",
       "    </tr>\n",
       "    <tr>\n",
       "      <th>113204</th>\n",
       "      <td>113204</td>\n",
       "      <td>1</td>\n",
       "      <td>0</td>\n",
       "      <td>1</td>\n",
       "      <td>30.13</td>\n",
       "      <td>12.0</td>\n",
       "      <td>0.0</td>\n",
       "      <td>4.0</td>\n",
       "    </tr>\n",
       "    <tr>\n",
       "      <th>116379</th>\n",
       "      <td>116379</td>\n",
       "      <td>0</td>\n",
       "      <td>1</td>\n",
       "      <td>0</td>\n",
       "      <td>26.39</td>\n",
       "      <td>1.0</td>\n",
       "      <td>8.0</td>\n",
       "      <td>8.0</td>\n",
       "    </tr>\n",
       "    <tr>\n",
       "      <th>282397</th>\n",
       "      <td>282397</td>\n",
       "      <td>0</td>\n",
       "      <td>0</td>\n",
       "      <td>0</td>\n",
       "      <td>21.97</td>\n",
       "      <td>4.0</td>\n",
       "      <td>0.0</td>\n",
       "      <td>30.0</td>\n",
       "    </tr>\n",
       "  </tbody>\n",
       "</table>\n",
       "</div>"
      ],
      "text/plain": [
       "        Unnamed: 0  Heart_Disease  Sex  Depression    BMI  \\\n",
       "173569      173569              0    0           0  39.48   \n",
       "10290        10290              0    1           1  27.37   \n",
       "113204      113204              1    0           1  30.13   \n",
       "116379      116379              0    1           0  26.39   \n",
       "282397      282397              0    0           0  21.97   \n",
       "\n",
       "        FriedPotato_Consumption  Alcohol_Consumption  Fruit_Consumption  \n",
       "173569                      1.0                  0.0               30.0  \n",
       "10290                       4.0                  0.0                5.0  \n",
       "113204                     12.0                  0.0                4.0  \n",
       "116379                      1.0                  8.0                8.0  \n",
       "282397                      4.0                  0.0               30.0  "
      ]
     },
     "execution_count": 56,
     "metadata": {},
     "output_type": "execute_result"
    }
   ],
   "source": [
    "df_full=df\n",
    "df_full.head()\n",
    "sampled_indices = df_sample.index\n",
    "reduced_df = df_full.drop(sampled_indices) # get rid of the 200 samples we've worked with until now for this df.\n",
    "#sample 1000 from the reduced data\n",
    "np.random.seed(314)\n",
    "reduced_df_sample = reduced_df.sample(1000) # sample 1000 from the reduced data.\n",
    "reduced_df_sample.head()"
   ]
  },
  {
   "cell_type": "code",
   "execution_count": 57,
   "metadata": {},
   "outputs": [],
   "source": [
    "# predicting the y values for the reduced data by applying the coefficients vector beta on given X values\n",
    "X_new = reduced_df_sample[['Alcohol_Consumption', 'Fruit_Consumption', 'Sex']].assign(ones=1).values\n",
    "y_pred = X_new @ beta\n"
   ]
  },
  {
   "cell_type": "markdown",
   "metadata": {},
   "source": [
    "### Part 1.9.B+C    \n",
    "    Calculating the confidence intervals for Y_new and checking the appearance percentage"
   ]
  },
  {
   "cell_type": "code",
   "execution_count": 58,
   "metadata": {},
   "outputs": [
    {
     "name": "stdout",
     "output_type": "stream",
     "text": [
      "(200, 4)\n",
      "[[14.71398024 41.21960671]\n",
      " [16.90635269 43.48775298]\n",
      " [14.96166988 41.55368372]\n",
      " ...\n",
      " [16.32486669 42.82345571]\n",
      " [16.66080804 43.17390663]\n",
      " [14.71398024 41.21960671]]\n",
      "The percentage of the times that the true value is in the confidence interval is: 95.30%\n"
     ]
    }
   ],
   "source": [
    "# Calculating the confidence intervals for the predicted values of the reduced data based on the 200 poinys data\n",
    "# Calculate the standard error of the predicted values\n",
    "C = np.linalg.inv(X.T @ X) # Covariance matrix\n",
    "print(X.shape)\n",
    "n = 1000\n",
    "p = 3\n",
    "#calculate sigma for the y new \n",
    "y_new = reduced_df_sample['BMI'].values \n",
    "residuals_new = y_new - y_pred # Residuals\n",
    "variance = np.sum(residuals_new**2)/(n-p) # Residual standard error\n",
    "# Calculate the standard error of the predicted values\n",
    "sqrt_SE_new_var = np.sqrt(np.sum(X_new @ C_new * X_new, axis=1) * variance +  variance) # Square of Standard errors + variance\n",
    "# calculate the precantage of the times that the true value is in the confidence interval\n",
    "CI_new = np.column_stack((y_pred - stats.t.ppf(0.975, df_Error)*sqrt_SE_new_var, y_pred + stats.t.ppf(0.975, df_Error)*sqrt_SE_new_var))\n",
    "print(CI_new)\n",
    "percentage = np.mean((CI_new[:,0] <= y_new) & (y_new <= CI_new[:,1]))*100\n",
    "print(f\"The percentage of the times that the true value is in the confidence interval is: {percentage:.2f}%\")"
   ]
  },
  {
   "cell_type": "markdown",
   "metadata": {},
   "source": [
    "<div dir=\"rtl\" style=\"text-align: right;\">\n",
    "כפי שראינו בסעיפים הראשונים מההיסטוגרמה על משתנה הBMI - ניתן להניח שהוא מגיע מהתפלגות עם תוחלת בין 25 ל30 והרוב המוחלט של הנתונים נמצאים בטווח שבין 20 ל35 כאשר BMI שהוא מתחת ל18.5 מוגדר כ\"תת-משקל\" ו40 ומעלה מוגדל כ\"השמנה דרגה 3\" (והמקס'), כך שערכים אלה הם לא ערכים שכיחים במיוחד בדאטה.\n",
    "רווחי הסמך שקיבלנו רחבים מאוד (בין כ14 לכ44), ולכן מצליחים ''לחזות'' נכונה את הערך האמיתי כתוצאה מכך. הדבר לא מעיד בהכרח על טיב המודל, שכן רווחי הסמך לוכדים את טווח הBMI של הרוב המחולט של הדגימות בדאטה.\n",
    "\n",
    "\n",
    "\n",
    "</div>"
   ]
  },
  {
   "cell_type": "markdown",
   "metadata": {},
   "source": [
    "## Part 1.10\n",
    "    Adding the first degree interaction to the Linear model"
   ]
  },
  {
   "cell_type": "code",
   "execution_count": 59,
   "metadata": {},
   "outputs": [
    {
     "name": "stdout",
     "output_type": "stream",
     "text": [
      "The coefficients vector beta for the linear regression model BMI ~ (X1, X2, X3, Z12, Z13, Z23) is: [-9.71405082e-02 -3.10885468e-02  1.04411078e+00  8.90857877e-04\n",
      " -4.27329062e-02  3.69453473e-02  2.88287931e+01]\n",
      "The regression model is: y=-0.09714050823257527*X1 + -0.031088546818765866*X2 + 1.0441107793041176*X3 + 0.0008908578766632425*Z12 + -0.04273290622332809*Z13 + 0.036945347288725915*Z23 + 28.828793122533256\n"
     ]
    }
   ],
   "source": [
    "# Adding the new explaining variables Z12, Z13, Z23\n",
    "X1= df_sample['Alcohol_Consumption'].values\n",
    "X2= df_sample['Fruit_Consumption'].values\n",
    "X3 = df_sample['Sex'].values\n",
    "Z12 = X1*X2\n",
    "Z13 = X1*X3\n",
    "Z23 = X2*X3\n",
    "# Estimating the coefficients vector beta for the linear regression model BMI ~ (X1, X2, X3, Z12, Z13, Z23)\n",
    "X_inter = np.column_stack((X1, X2, X3, Z12, Z13, Z23, np.ones(X1.shape[0])))\n",
    "y = df_sample['BMI'].values\n",
    "beta_inter = np.linalg.inv(X_inter.T @ X_inter) @ X_inter.T @ y\n",
    "print(f\"The coefficients vector beta for the linear regression model BMI ~ (X1, X2, X3, Z12, Z13, Z23) is: {beta_inter}\")\n",
    "print(f'The regression model is: y={beta_inter[0]}*X1 + {beta_inter[1]}*X2 + {beta_inter[2]}*X3 + {beta_inter[3]}*Z12 + {beta_inter[4]}*Z13 + {beta_inter[5]}*Z23 + {beta_inter[6]}')"
   ]
  },
  {
   "cell_type": "markdown",
   "metadata": {},
   "source": [
    "<div dir=\"rtl\" style=\"text-align: right;\">\n",
    "נשתמש בשתי שיטות לבחירת מודל שראינו בכיתה:\n",
    "\n",
    "\n",
    "1.   **בחירת מודל על סמך  R^2_adj:**  -  כשכמות המשתנים גדולה, ערכו יקטן וזה ה\"עונש\" שיש עבור מודל על הרבה פרמטרים. מודל עם R^2_adj קרוב יותר ל1 יהיה מודל טוב יותר. \n",
    "2.   **בחירת מודל לפי סטטיסטי Mallow:** ראינו בתרגול כי נרצה למזער את המדד המתקבל ממבחן זה. לכן מודל עם סטטיסטי נמוך יותר, יהיה מודל טוב יותר.\n",
    "\n",
    "\n",
    "</div>"
   ]
  },
  {
   "cell_type": "code",
   "execution_count": 60,
   "metadata": {},
   "outputs": [
    {
     "name": "stdout",
     "output_type": "stream",
     "text": [
      "The adjusted R-squared for the linear regression model BMI ~ (X1, X2, X3) is: 0.029274156970552245\n",
      "The adjusted R-squared for the linear regression model BMI ~ (X1, X2, X3, Z12, Z13, Z23) is: 0.043875858628728004\n"
     ]
    }
   ],
   "source": [
    "# Comparing the models\n",
    "\n",
    "## First method: R^2_adj\n",
    "## R^2_adj for the first model\n",
    "R_squared_adjusted = 1-(MSE/MST)\n",
    "print(f\"The adjusted R-squared for the linear regression model BMI ~ (X1, X2, X3) is: {R_squared_adjusted}\")\n",
    "## R^2_adj for the second model\n",
    "Y_hat_inter = X_inter @ beta_inter # Predicted values\n",
    "SSR_inter= np.sum((Y_hat_inter-np.mean(y))**2) # Sum of squares due to Regression\n",
    "SSE_inter= np.sum((y-Y_hat_inter)**2) # Sum of squares due to Error\n",
    "SST_inter= SSR_inter + SSE_inter # Total Sum of squares\n",
    "df_Regression_inter = 6 # degrees of freedom for Regression\n",
    "df_Error_inter = n-7 # degrees of freedom for Error\n",
    "df_Total_inter = n-1 # degrees of freedom for Total\n",
    "MSR_inter= SSR_inter/df_Regression_inter # Mean Square for Regression\n",
    "MSE_inter= SSE_inter/df_Error_inter # Mean Square for Error\n",
    "MST_inter = SST_inter/df_Total_inter # Mean Square for Total\n",
    "\n",
    "R_squared_adjusted_inter = 1-(MSE_inter/MST_inter)\n",
    "print(f\"The adjusted R-squared for the linear regression model BMI ~ (X1, X2, X3, Z12, Z13, Z23) is: {R_squared_adjusted_inter}\")\n",
    "\n",
    "\n"
   ]
  },
  {
   "cell_type": "code",
   "execution_count": 61,
   "metadata": {},
   "outputs": [
    {
     "name": "stdout",
     "output_type": "stream",
     "text": [
      "Mallows' Cp for the linear regression model BMI ~ (X1, X2, X3) is: 7552.400927107853\n",
      "Mallows' Cp for the linear regression model BMI ~ (X1, X2, X3, Z12, Z13, Z23) is: 7372.3341200392815\n"
     ]
    }
   ],
   "source": [
    "### Second method: Mallows' Cp\n",
    "### Mallows' Cp for the first model\n",
    "S1 = 3 # number of explaining variables coefficients in the first model\n",
    "MSE1 = MSE # Mean Square for Error\n",
    "Cp = SSE + 2*S1*MSE # Mallows' Cp\n",
    "print(f\"Mallows' Cp for the linear regression model BMI ~ (X1, X2, X3) is: {Cp}\")\n",
    "### Mallows' Cp for the second model\n",
    "S2 = 6 # number of explaining variables coefficients in the second model\n",
    "MSE2 = MSE_inter # Mean Square for Error\n",
    "Cp_inter = SSE_inter + 2*S2*MSE2 # Mallows' Cp\n",
    "print(f\"Mallows' Cp for the linear regression model BMI ~ (X1, X2, X3, Z12, Z13, Z23) is: {Cp_inter}\")\n"
   ]
  },
  {
   "cell_type": "markdown",
   "metadata": {},
   "source": [
    "<div dir=\"rtl\" style=\"text-align: right;\">\n",
    "על סמך שתי השיטות, נעדיף לבחור במודל האינטראקציות על פני המודל הראשון. עם זאת, נבחין כי ערכי הR^2_adj יצאו נמוכים מאוד, דבר שעשוי להעיד על כך שהמודל הלינארי לא מתאים כדי להסביר את הקשר בין המשתנים המסבירים שבחרנו לבין המשתנה המוסבר.\n",
    "</div>"
   ]
  },
  {
   "cell_type": "markdown",
   "metadata": {},
   "source": [
    "# Part 2 - Logistic Regression"
   ]
  },
  {
   "cell_type": "markdown",
   "metadata": {},
   "source": [
    "## Part 2.1\n",
    "    Defining the Hypothesis"
   ]
  },
  {
   "cell_type": "markdown",
   "metadata": {},
   "source": [
    "<div dir=\"rtl\" style=\"text-align: right;\">\n",
    " שאלת המחקר: כיצד משפיעים מין, צריכת אלכוהול חודשית וצריכת פירות חודשית על התרחשות מחלות לב?\n",
    "</div>"
   ]
  },
  {
   "cell_type": "markdown",
   "metadata": {},
   "source": [
    "## Part 2.2\n",
    "    Sampling a 200 sized data for the rest of the question\n"
   ]
  },
  {
   "cell_type": "code",
   "execution_count": 62,
   "metadata": {},
   "outputs": [
    {
     "data": {
      "text/html": [
       "<div>\n",
       "<style scoped>\n",
       "    .dataframe tbody tr th:only-of-type {\n",
       "        vertical-align: middle;\n",
       "    }\n",
       "\n",
       "    .dataframe tbody tr th {\n",
       "        vertical-align: top;\n",
       "    }\n",
       "\n",
       "    .dataframe thead th {\n",
       "        text-align: right;\n",
       "    }\n",
       "</style>\n",
       "<table border=\"1\" class=\"dataframe\">\n",
       "  <thead>\n",
       "    <tr style=\"text-align: right;\">\n",
       "      <th></th>\n",
       "      <th>Unnamed: 0</th>\n",
       "      <th>Heart_Disease</th>\n",
       "      <th>Sex</th>\n",
       "      <th>Depression</th>\n",
       "      <th>BMI</th>\n",
       "      <th>FriedPotato_Consumption</th>\n",
       "      <th>Alcohol_Consumption</th>\n",
       "      <th>Fruit_Consumption</th>\n",
       "    </tr>\n",
       "  </thead>\n",
       "  <tbody>\n",
       "    <tr>\n",
       "      <th>143684</th>\n",
       "      <td>143684</td>\n",
       "      <td>0</td>\n",
       "      <td>0</td>\n",
       "      <td>0</td>\n",
       "      <td>19.20</td>\n",
       "      <td>4.0</td>\n",
       "      <td>0.0</td>\n",
       "      <td>30.0</td>\n",
       "    </tr>\n",
       "    <tr>\n",
       "      <th>18803</th>\n",
       "      <td>18803</td>\n",
       "      <td>0</td>\n",
       "      <td>0</td>\n",
       "      <td>0</td>\n",
       "      <td>24.75</td>\n",
       "      <td>0.0</td>\n",
       "      <td>28.0</td>\n",
       "      <td>60.0</td>\n",
       "    </tr>\n",
       "    <tr>\n",
       "      <th>244431</th>\n",
       "      <td>244431</td>\n",
       "      <td>0</td>\n",
       "      <td>0</td>\n",
       "      <td>1</td>\n",
       "      <td>47.77</td>\n",
       "      <td>1.0</td>\n",
       "      <td>0.0</td>\n",
       "      <td>20.0</td>\n",
       "    </tr>\n",
       "    <tr>\n",
       "      <th>120543</th>\n",
       "      <td>120543</td>\n",
       "      <td>0</td>\n",
       "      <td>0</td>\n",
       "      <td>0</td>\n",
       "      <td>28.19</td>\n",
       "      <td>2.0</td>\n",
       "      <td>0.0</td>\n",
       "      <td>16.0</td>\n",
       "    </tr>\n",
       "    <tr>\n",
       "      <th>142511</th>\n",
       "      <td>142511</td>\n",
       "      <td>0</td>\n",
       "      <td>1</td>\n",
       "      <td>0</td>\n",
       "      <td>37.30</td>\n",
       "      <td>3.0</td>\n",
       "      <td>10.0</td>\n",
       "      <td>4.0</td>\n",
       "    </tr>\n",
       "  </tbody>\n",
       "</table>\n",
       "</div>"
      ],
      "text/plain": [
       "        Unnamed: 0  Heart_Disease  Sex  Depression    BMI  \\\n",
       "143684      143684              0    0           0  19.20   \n",
       "18803        18803              0    0           0  24.75   \n",
       "244431      244431              0    0           1  47.77   \n",
       "120543      120543              0    0           0  28.19   \n",
       "142511      142511              0    1           0  37.30   \n",
       "\n",
       "        FriedPotato_Consumption  Alcohol_Consumption  Fruit_Consumption  \n",
       "143684                      4.0                  0.0               30.0  \n",
       "18803                       0.0                 28.0               60.0  \n",
       "244431                      1.0                  0.0               20.0  \n",
       "120543                      2.0                  0.0               16.0  \n",
       "142511                      3.0                 10.0                4.0  "
      ]
     },
     "execution_count": 62,
     "metadata": {},
     "output_type": "execute_result"
    }
   ],
   "source": [
    "# Same as Part 1.2\n",
    "# Load the data\n",
    "df = pd.read_csv('df_for_proj (1).csv')\n",
    "\n",
    "df.head()\n",
    "\n",
    "# Picking a random sample of 200 rows.\n",
    "np.random.seed(314)\n",
    "df_sample_logistic = df.sample(200)\n",
    "df_sample_logistic.head()"
   ]
  },
  {
   "cell_type": "markdown",
   "metadata": {},
   "source": [
    "## Part 2.3 \n",
    "    Data visualization and analysis"
   ]
  },
  {
   "cell_type": "markdown",
   "metadata": {},
   "source": [
    "### Part 2.3.a+b\n",
    "    Histogram for continuous variables and a table for the categorial variables"
   ]
  },
  {
   "cell_type": "markdown",
   "metadata": {},
   "source": [
    "<div dir=\"rtl\" style=\"text-align: right;\">\n",
    "המשתנה היחיד ששינינו הואמחלות לב, לכן נכתוב עבורו טבלה.\n",
    "\n",
    "\n",
    "\n",
    "</div>"
   ]
  },
  {
   "cell_type": "code",
   "execution_count": 63,
   "metadata": {},
   "outputs": [
    {
     "data": {
      "text/html": [
       "<div>\n",
       "<style scoped>\n",
       "    .dataframe tbody tr th:only-of-type {\n",
       "        vertical-align: middle;\n",
       "    }\n",
       "\n",
       "    .dataframe tbody tr th {\n",
       "        vertical-align: top;\n",
       "    }\n",
       "\n",
       "    .dataframe thead th {\n",
       "        text-align: right;\n",
       "    }\n",
       "</style>\n",
       "<table border=\"1\" class=\"dataframe\">\n",
       "  <thead>\n",
       "    <tr style=\"text-align: right;\">\n",
       "      <th></th>\n",
       "      <th>Heart_Disease</th>\n",
       "      <th>Count</th>\n",
       "    </tr>\n",
       "  </thead>\n",
       "  <tbody>\n",
       "    <tr>\n",
       "      <th>0</th>\n",
       "      <td>No</td>\n",
       "      <td>190</td>\n",
       "    </tr>\n",
       "    <tr>\n",
       "      <th>1</th>\n",
       "      <td>Yes</td>\n",
       "      <td>10</td>\n",
       "    </tr>\n",
       "  </tbody>\n",
       "</table>\n",
       "</div>"
      ],
      "text/plain": [
       "  Heart_Disease  Count\n",
       "0            No    190\n",
       "1           Yes     10"
      ]
     },
     "metadata": {},
     "output_type": "display_data"
    }
   ],
   "source": [
    "# Build a table for the categorial variable 'heart_disease' with counts for the different values\n",
    "heart_disease_df=df_sample_logistic.groupby('Heart_Disease').size().reset_index(name='Count').sort_values(by='Count', ascending=False)\n",
    "# rename columns: 0 -> No, 1 -> Yes.\n",
    "heart_disease_df=heart_disease_df.replace({1:'Yes',0: 'No'})\n",
    "## Display the table\n",
    "display(heart_disease_df)"
   ]
  },
  {
   "cell_type": "markdown",
   "metadata": {},
   "source": [
    "<div dir=\"rtl\" style=\"text-align: right;\">\n",
    "\n",
    "מהטבלה, הכמויות מאוד שונות, לכן ההתפלגות שנלקחו ממנה הנתונים אינה סימטרית, עם רוב לאנשים שלא לקו במחלת לב. לא נוכל להסיק באופן חד משמעי מאיזו התפלגות נלקחו הנתונים.\n",
    "\n",
    "\n",
    "\n",
    "</div>"
   ]
  },
  {
   "cell_type": "markdown",
   "metadata": {},
   "source": [
    "<div dir=\"rtl\" style=\"text-align: right;\">\n",
    "נשים לב כי אין לנו נתונים חסרים כיוון שהדאטה שאנחנו עובדים איתו הוא דאטה שניקינו בפרויקטים הקודמים.\n",
    "</div>"
   ]
  },
  {
   "cell_type": "markdown",
   "metadata": {},
   "source": [
    "### Part 2.3.c\n",
    "    Plots of X against Y for each continuous explaining variable"
   ]
  },
  {
   "cell_type": "code",
   "execution_count": 64,
   "metadata": {},
   "outputs": [
    {
     "data": {
      "image/png": "[encoded data removed]",
      "text/plain": [
       "<Figure size 1200x600 with 2 Axes>"
      ]
     },
     "metadata": {},
     "output_type": "display_data"
    },
    {
     "data": {
      "image/png": "[encoded data removed]",
      "text/plain": [
       "<Figure size 1200x600 with 2 Axes>"
      ]
     },
     "metadata": {},
     "output_type": "display_data"
    }
   ],
   "source": [
    "# defining a function to plot a hist and a boxplot side by side\n",
    "def plot_hist_and_boxplot(x, y, variable, title, units):\n",
    "    fig, axs = plt.subplots(1, 2, figsize=(12, 6))\n",
    "    axs[0].boxplot([df_sample_logistic[df_sample_logistic['Heart_Disease']==0][variable], df_sample_logistic[df_sample_logistic['Heart_Disease']==1][variable]], labels=['No', 'Yes'], showmeans=True, meanline=True, patch_artist=True, boxprops=dict(facecolor='lightblue'))\n",
    "    axs[0].set_title(f'{title} Distribution per Heart Disease')\n",
    "    axs[0].set_ylabel(f'{title}')\n",
    "    axs[0].set_xlabel('Heart Disease')\n",
    "    axs[1].hist([df_sample_logistic[df_sample_logistic['Heart_Disease']==0][variable], df_sample_logistic[df_sample_logistic['Heart_Disease']==1][variable]], bins=12, color=['lightblue', 'lightcoral'], edgecolor = \"black\", label=['No', 'Yes'])\n",
    "    axs[1].set_title(f'{title} Distribution per Heart Disease')\n",
    "    axs[1].set_xlabel(f'{title}')\n",
    "    axs[1].set_ylabel('Count')\n",
    "    axs[1].legend()\n",
    "    plt.show()\n",
    "\n",
    "# Plotting the boxplot and hist side by side for the continuous variables as a function of the categorical variable 'heart_disease'.\n",
    "## Fruit Consumption\n",
    "plot_hist_and_boxplot('Fruit_Consumption', 'Heart_Disease', 'Fruit_Consumption', 'Fruit Consumption', 'Fruits per month')\n",
    "\n",
    "## Alcohol Consumption\n",
    "plot_hist_and_boxplot('Alcohol_Consumption', 'Heart_Disease', 'Alcohol_Consumption', 'Alcohol Consumption', 'Units per month')\n"
   ]
  },
  {
   "cell_type": "markdown",
   "metadata": {},
   "source": [
    "<div dir=\"rtl\" style=\"text-align: right;\">\n",
    "   \n",
    "ניתן לראות מהboxplot עבור 2 המשתנים, כי עבור צריכת אלכוהול יש יותר ערכים חריגים, שמתבטאים בזנב ימני ארוך. נשים לב שעבור צריכת אלכוהול, יש שינוי קיצוני בין אוכ' הלוקים במחלת לב לאלה שלא, לעומת משתנה צריכת הפירות. ולכן נוכל להסיק כי צריכת אלכוהול משפיעה יותר על התרחשות מחלת לב.\n",
    "</div>"
   ]
  },
  {
   "cell_type": "markdown",
   "metadata": {},
   "source": [
    "## Part 2.4\n",
    "    Calculating the coefficients vector beta for the Logistic regression"
   ]
  },
  {
   "cell_type": "code",
   "execution_count": 65,
   "metadata": {},
   "outputs": [
    {
     "name": "stdout",
     "output_type": "stream",
     "text": [
      "[ 0.00479649 -0.00545144  0.61500588 -3.13397995]\n",
      "The coefficients vector beta for the logistic regression model Heart Disease ~ (X1, X2, X3) and intercept is: [ 0.00479649 -0.00545144  0.61500588 -3.13397995]\n",
      "The change if x1 will increase by 1 is: 1.0048080121658616\n",
      "The change if x2 will increase by 1 is: 0.9945633917799962\n",
      "The change if x3 will increase by 1 is: 1.8496674717856458\n"
     ]
    }
   ],
   "source": [
    "from sklearn.linear_model import LogisticRegression\n",
    "# calculate the coeeficients vector beta for the logistic regression model Heart Disease ~ (Alcohol Consumption, Fruit Consumption, Sex).\n",
    "# Split data into features and target\n",
    "X_logistic = df_sample_logistic[['Alcohol_Consumption','Fruit_Consumption', 'Sex']].assign(ones=1).to_numpy()\n",
    "# Adapt the target to the logistic regression\n",
    "y_logistic = df_sample_logistic['Heart_Disease'].to_numpy()\n",
    "\n",
    "model = LogisticRegression(penalty = 'none', fit_intercept = False)\n",
    "model.fit(X_logistic, y_logistic)\n",
    "beta_logistic = model.coef_[0]\n",
    "print(beta_logistic)\n",
    "\n",
    "print(f\"The coefficients vector beta for the logistic regression model Heart Disease ~ (X1, X2, X3) and intercept is: {beta_logistic}\") # X1:Alcohol Consumption , X2:Fruit Consumption, X3:Sex\n",
    "# the change if x_i will increase by 1 will be exp(beta_i)\n",
    "# for alcohol consumption\n",
    "print(f\"The change if x1 will increase by 1 is: {np.exp(beta_logistic[0])}\")\n",
    "# for fruit consumption\n",
    "print(f\"The change if x2 will increase by 1 is: {np.exp(beta_logistic[1])}\")\n",
    "# for sex\n",
    "print(f\"The change if x3 will increase by 1 is: {np.exp(beta_logistic[2])}\")\n",
    "\n",
    "\n",
    "\n"
   ]
  },
  {
   "cell_type": "markdown",
   "metadata": {},
   "source": [
    "## Part 2.5\n",
    "    Confidence intervals for the Regression coefficients and calculations of beta for the complete dataset"
   ]
  },
  {
   "cell_type": "code",
   "execution_count": 66,
   "metadata": {},
   "outputs": [
    {
     "name": "stdout",
     "output_type": "stream",
     "text": [
      "The coefficients vector beta based on the complete data for the logistic regression model Heart Disease ~ (X1, X2, X3) and intercept is: [-2.32343456e-02 -2.08557695e-03  5.73678165e-01 -2.57138944e+00]\n"
     ]
    }
   ],
   "source": [
    "# Calculating beta based on the complete data for the logistic regression model Heart Disease ~ (Alcohol Consumption, Fruit Consumption, Sex).\n",
    "# Split data into features and target\n",
    "X_full_logistic = df[['Alcohol_Consumption','Fruit_Consumption','Sex']].assign(ones=1).to_numpy()\n",
    "y_full_logistic = df['Heart_Disease'].to_numpy()\n",
    "\n",
    "model_full = LogisticRegression(penalty = 'none', fit_intercept = False)\n",
    "model_full.fit(X_full_logistic, y_full_logistic)\n",
    "beta_full_logistic = model_full.coef_[0]\n",
    "print(f\"The coefficients vector beta based on the complete data for the logistic regression model Heart Disease ~ (X1, X2, X3) and intercept is: {beta_full_logistic}\") # X1:Alcohol Consumption , X2:Fruit Consumption, X3:Sex."
   ]
  },
  {
   "cell_type": "code",
   "execution_count": 67,
   "metadata": {},
   "outputs": [
    {
     "name": "stdout",
     "output_type": "stream",
     "text": [
      "The 95% confidence interval for the coefficient of Alcohol Consumption is: [-0.07251070434915655, 0.08210368553153585]\n",
      "Is the coefficient estimation based on the complete data in the confidence interval? True\n",
      "The 95% confidence interval for the coefficient of Fruit Consumption is: [-0.034303201080000616, 0.023400320366849366]\n",
      "Is the coefficient estimation based on the complete data in the confidence interval? True\n",
      "The 95% confidence interval for the coefficient of Sex is: [-0.6920257683680542, 1.922037524274927]\n",
      "Is the coefficient estimation based on the complete data in the confidence interval? True\n"
     ]
    }
   ],
   "source": [
    "# Calculating the confidence intervals for the coefficients vector beta for the logistic regression model Heart Disease ~ (Alcohol Consumption, Fruit Consumption, Sex) with confidence level of 95%.\n",
    "\n",
    "pi = model.predict_proba(X_logistic)[:,1] # Predicted probabilities\n",
    "n = y_logistic.shape[0]\n",
    "p = X_logistic.shape[1]\n",
    "# Calculate the standard error of the coefficients\n",
    "C_logistic = np.linalg.inv(X_logistic.T @ np.diag(pi*(1-pi)) @ X_logistic) # Covariance matrix for the logistic regression \n",
    "SE_logistic = np.sqrt(np.diag(C_logistic)) # Standard errors\n",
    "\n",
    "# Calculate the z-quanitle for 95% confidence level\n",
    "z = stats.norm.ppf(0.975) # z-quanitle for 95% confidence level\n",
    "# Calculate the confidence intervals\n",
    "se_alcohol_logistic= SE_logistic[0]\n",
    "se_fruit_logistic= SE_logistic[1]\n",
    "se_sex_logistic= SE_logistic[2]\n",
    "#calculate the confidence intervals for beta_j with confidence level of 95%\n",
    "CI_alcohol_logistic = [beta_logistic[0]-z*se_alcohol_logistic, beta_logistic[0]+z*se_alcohol_logistic]\n",
    "CI_fruit_logistic = [beta_logistic[1]-z*se_fruit_logistic, beta_logistic[1]+z*se_fruit_logistic]\n",
    "CI_sex_logistic = [beta_logistic[2]-z*se_sex_logistic, beta_logistic[2]+z*se_sex_logistic]\n",
    "print(f\"The 95% confidence interval for the coefficient of Alcohol Consumption is: {CI_alcohol_logistic}\")\n",
    "print(f\"Is the coefficient estimation based on the complete data in the confidence interval? {is_in_CI(CI_alcohol_logistic, beta_full_logistic[0])}\")\n",
    "print(f\"The 95% confidence interval for the coefficient of Fruit Consumption is: {CI_fruit_logistic}\")\n",
    "print(f\"Is the coefficient estimation based on the complete data in the confidence interval? {is_in_CI(CI_fruit_logistic, beta_full_logistic[1])}\")\n",
    "print(f\"The 95% confidence interval for the coefficient of Sex is: {CI_sex_logistic}\")\n",
    "print(f\"Is the coefficient estimation based on the complete data in the confidence interval? {is_in_CI(CI_sex_logistic, beta_full_logistic[2])}\")\n"
   ]
  },
  {
   "cell_type": "markdown",
   "metadata": {},
   "source": [
    "## Part 2.6\n",
    "    Adding the first degree interaction to the Logistic model"
   ]
  },
  {
   "cell_type": "code",
   "execution_count": 68,
   "metadata": {},
   "outputs": [
    {
     "name": "stdout",
     "output_type": "stream",
     "text": [
      "The coefficients vector beta for the logistic regression model Heart Disease ~ (X1, X2, X3, Z12, Z13, Z23) is: [ 2.04826239e-02  2.63704697e-02  3.96711516e+00  1.08173090e-03\n",
      " -1.33730152e+01 -8.74888368e-02 -4.83786423e+00]\n"
     ]
    }
   ],
   "source": [
    "import numpy as np\n",
    "from sklearn.linear_model import LogisticRegression\n",
    "from sklearn.preprocessing import StandardScaler        \n",
    "\n",
    "# Assuming df_sample_logistic is your DataFrame\n",
    "\n",
    "\n",
    "scaler = StandardScaler()\n",
    "\n",
    "\n",
    "# Extracting original variables\n",
    "X1 = df_sample_logistic['Alcohol_Consumption'].values\n",
    "X2 = df_sample_logistic['Fruit_Consumption'].values\n",
    "X3 = df_sample_logistic['Sex'].values\n",
    "\n",
    "# Creating interaction terms\n",
    "Z12 = X1 * X2\n",
    "Z13 = X1 * X3\n",
    "Z23 = X2 * X3\n",
    "\n",
    "# Combining all variables into one feature matrix, including a column for intercept\n",
    "X_inter = np.column_stack((X1, X2, X3, Z12, Z13, Z23, np.ones(X1.shape[0])))\n",
    "x_inter = scaler.fit_transform(X_inter)\n",
    "\n",
    "# Target variable\n",
    "y = df_sample_logistic['Heart_Disease'].values\n",
    "\n",
    "# Fitting the logistic regression model\n",
    "model_inter = LogisticRegression(penalty='none', fit_intercept=False, max_iter=1000, solver='lbfgs')\n",
    "model_inter.fit(X_inter, y)\n",
    "\n",
    "# Extracting the coefficients\n",
    "beta_inter = model_inter.coef_[0]\n",
    "print(f\"The coefficients vector beta for the logistic regression model Heart Disease ~ (X1, X2, X3, Z12, Z13, Z23) is: {beta_inter}\")"
   ]
  },
  {
   "cell_type": "markdown",
   "metadata": {},
   "source": [
    "<div dir=\"rtl\" style=\"text-align: right;\">\n",
    "כעת נבחן איזה מודל עדיף. נשתמש במבחן יחס נראות ובAIC כפי שראינו בתרגול.\n",
    "נבנה פונ' למבחן יחס נראות על פי החישובים שצירפנו לפרויקט.\n",
    "\n",
    "</div>"
   ]
  },
  {
   "cell_type": "code",
   "execution_count": 69,
   "metadata": {},
   "outputs": [],
   "source": [
    "# Defining a likelihood test function to compare the two models\n",
    "def likelihood_test(y, X1, X2, X3, Z12, Z13, Z23, beta_H0, beta_H1):\n",
    "    \"\"\"\n",
    "    This function performs a likelihood ratio test for two nested models.\n",
    "    \n",
    "    :param y: The target variable.\n",
    "    :param X1: The first feature.\n",
    "    :param X2: The second feature.\n",
    "    :param X3: The third feature.\n",
    "    :param Z12: The interaction term between X1 and X2.\n",
    "    :param Z13: The interaction term between X1 and X3.\n",
    "    :param Z23: The interaction term between X2 and X3.\n",
    "    :param beta_H0: The coefficients vector for the null hypothesis model.\n",
    "    :param beta_H1: The coefficients vector for the alternative hypothesis model.\n",
    "    :return: The likelihood ratio test statistic.\n",
    "    \"\"\"\n",
    "    # Defining pow_H0 and pow_H1\n",
    "    pow_H0 = X1 * beta_H0[0] + X2 * beta_H0[1] + X3 * beta_H0[2] + beta_H0[3]\n",
    "    pow_H1 = X1 * beta_H1[0] + X2 * beta_H1[1] + X3 * beta_H1[2] + Z12 * beta_H1[3] + Z13 * beta_H1[4] + Z23 * beta_H1[5] + beta_H1[6]\n",
    "    \n",
    "    first_component = np.sum(y * pow_H0)\n",
    "    second_component = np.sum(np.log(1+np.exp(pow_H0) / 1+np.exp(pow_H1)))\n",
    "    return  2 * (first_component + second_component)\n",
    "    \n"
   ]
  },
  {
   "cell_type": "code",
   "execution_count": 70,
   "metadata": {},
   "outputs": [
    {
     "name": "stdout",
     "output_type": "stream",
     "text": [
      "The likelihood ratio test statistic is: -16.498339090129576\n",
      "The rejection threshold for 95% confidence level is: 7.814727903251179\n",
      "Is the likelihood ratio test statistic in the rejection zone? False\n"
     ]
    }
   ],
   "source": [
    "# Performing the likelihood ratio test\n",
    "likelihood_statistic = likelihood_test(y, X1, X2, X3, Z12, Z13, Z23, beta_logistic, beta_inter)\n",
    "print(f\"The likelihood ratio test statistic is: {likelihood_statistic}\")\n",
    "rejection_threshold = stats.chi2.ppf(0.95, 3) # Rejection threshold for 95% confidence level\n",
    "print(f\"The rejection threshold for 95% confidence level is: {rejection_threshold}\")\n",
    "print(f\"Is the likelihood ratio test statistic in the rejection zone? {likelihood_statistic > rejection_threshold}\")\n"
   ]
  },
  {
   "cell_type": "markdown",
   "metadata": {},
   "source": [
    "<div dir=\"rtl\" style=\"text-align: right;\">\n",
    "על פי מבחן יחס נראות, לא נדחה את השערת האפס, כלומר נעדיף את מודל האינטראקציות.\n",
    "\n",
    "\n",
    "</div>"
   ]
  },
  {
   "cell_type": "code",
   "execution_count": 71,
   "metadata": {},
   "outputs": [],
   "source": [
    "# defining the AIC function.\n",
    "def AIC(y, X, beta_estimator):\n",
    "    \"\"\"\n",
    "    This function calculates the Akaike Information Criterion (AIC) for a logistic regression model.\n",
    "    \n",
    "    :param y: The target variable.\n",
    "    :param X: The feature matrix.\n",
    "    :param beta: The coefficients vector.\n",
    "    :return: The AIC value.\n",
    "    \"\"\"\n",
    "    s = X.shape[1]\n",
    "    inner_prod = X @ beta_estimator\n",
    "    L = np.sum(y * inner_prod - np.log(1+np.exp(inner_prod)))\n",
    "    return L - s\n",
    "\n"
   ]
  },
  {
   "cell_type": "code",
   "execution_count": 72,
   "metadata": {},
   "outputs": [
    {
     "name": "stdout",
     "output_type": "stream",
     "text": [
      "The AIC for the regular model is: -43.17868930471765\n",
      "The AIC for the Interactions model is: -38.0360546839203\n",
      "Is the AIC for the Interactions model bigger than the AIC for the regular model? True\n"
     ]
    }
   ],
   "source": [
    "# Performing the AIC test for the two models\n",
    "AIC_H0 = AIC(y, X_logistic, beta_logistic)\n",
    "AIC_H1 = AIC(y, X_inter, beta_inter)\n",
    "print(f\"The AIC for the regular model is: {AIC_H0}\")\n",
    "print(f\"The AIC for the Interactions model is: {AIC_H1}\")\n",
    "print(f\"Is the AIC for the Interactions model bigger than the AIC for the regular model? {AIC_H1 > AIC_H0}\")\n"
   ]
  },
  {
   "cell_type": "markdown",
   "metadata": {},
   "source": [
    "<div dir=\"rtl\" style=\"text-align: right;\">\n",
    "על פי מדד הAIC, נעדיף את מודל האינטראקציות על פני מודל הרגרסיה הרגיל.\n",
    "\n",
    "\n",
    "</div>"
   ]
  },
  {
   "cell_type": "markdown",
   "metadata": {},
   "source": [
    "<div dir=\"rtl\" style=\"text-align: right;\">\n",
    "לסיכום, על פי שני המבחנים, נעדיף את מודל האינטראקציות על פני המודל הרגיל.\n",
    "\n",
    "\n",
    "</div>"
   ]
  },
  {
   "cell_type": "markdown",
   "metadata": {},
   "source": [
    "## Part 2.7\n",
    "    Implementing Forward/Backward Stepwise Regression procedures."
   ]
  },
  {
   "cell_type": "code",
   "execution_count": 75,
   "metadata": {},
   "outputs": [
    {
     "data": {
      "text/html": [
       "<div>\n",
       "<style scoped>\n",
       "    .dataframe tbody tr th:only-of-type {\n",
       "        vertical-align: middle;\n",
       "    }\n",
       "\n",
       "    .dataframe tbody tr th {\n",
       "        vertical-align: top;\n",
       "    }\n",
       "\n",
       "    .dataframe thead th {\n",
       "        text-align: right;\n",
       "    }\n",
       "</style>\n",
       "<table border=\"1\" class=\"dataframe\">\n",
       "  <thead>\n",
       "    <tr style=\"text-align: right;\">\n",
       "      <th></th>\n",
       "      <th>Sex</th>\n",
       "      <th>Depression</th>\n",
       "      <th>BMI</th>\n",
       "      <th>FriedPotato_Consumption</th>\n",
       "      <th>Alcohol_Consumption</th>\n",
       "      <th>Fruit_Consumption</th>\n",
       "      <th>Sex*Depression</th>\n",
       "      <th>Sex*BMI</th>\n",
       "      <th>Sex*FriedPotato_Consumption</th>\n",
       "      <th>Sex*Alcohol_Consumption</th>\n",
       "      <th>...</th>\n",
       "      <th>Sex*Depression*BMI</th>\n",
       "      <th>Sex*Depression*FriedPotato_Consumption</th>\n",
       "      <th>Sex*Depression*Alcohol_Consumption</th>\n",
       "      <th>Sex*Depression*Fruit_Consumption</th>\n",
       "      <th>BMI*FriedPotato_Consumption*Sex</th>\n",
       "      <th>BMI*FriedPotato_Consumption*Depression</th>\n",
       "      <th>BMI*FriedPotato_Consumption*Alcohol_Consumption</th>\n",
       "      <th>BMI*FriedPotato_Consumption*Fruit_Consumption</th>\n",
       "      <th>Alcohol_Consumption*Depression*Fruit_Consumption</th>\n",
       "      <th>Heart_Disease</th>\n",
       "    </tr>\n",
       "  </thead>\n",
       "  <tbody>\n",
       "    <tr>\n",
       "      <th>143684</th>\n",
       "      <td>0</td>\n",
       "      <td>0</td>\n",
       "      <td>19.20</td>\n",
       "      <td>4.0</td>\n",
       "      <td>0.0</td>\n",
       "      <td>30.0</td>\n",
       "      <td>0</td>\n",
       "      <td>0.0</td>\n",
       "      <td>0.0</td>\n",
       "      <td>0.0</td>\n",
       "      <td>...</td>\n",
       "      <td>0.0</td>\n",
       "      <td>0.0</td>\n",
       "      <td>0.0</td>\n",
       "      <td>0.0</td>\n",
       "      <td>0.0</td>\n",
       "      <td>0.00</td>\n",
       "      <td>0.0</td>\n",
       "      <td>2304.00</td>\n",
       "      <td>0.0</td>\n",
       "      <td>0</td>\n",
       "    </tr>\n",
       "    <tr>\n",
       "      <th>18803</th>\n",
       "      <td>0</td>\n",
       "      <td>0</td>\n",
       "      <td>24.75</td>\n",
       "      <td>0.0</td>\n",
       "      <td>28.0</td>\n",
       "      <td>60.0</td>\n",
       "      <td>0</td>\n",
       "      <td>0.0</td>\n",
       "      <td>0.0</td>\n",
       "      <td>0.0</td>\n",
       "      <td>...</td>\n",
       "      <td>0.0</td>\n",
       "      <td>0.0</td>\n",
       "      <td>0.0</td>\n",
       "      <td>0.0</td>\n",
       "      <td>0.0</td>\n",
       "      <td>0.00</td>\n",
       "      <td>0.0</td>\n",
       "      <td>0.00</td>\n",
       "      <td>0.0</td>\n",
       "      <td>0</td>\n",
       "    </tr>\n",
       "    <tr>\n",
       "      <th>244431</th>\n",
       "      <td>0</td>\n",
       "      <td>1</td>\n",
       "      <td>47.77</td>\n",
       "      <td>1.0</td>\n",
       "      <td>0.0</td>\n",
       "      <td>20.0</td>\n",
       "      <td>0</td>\n",
       "      <td>0.0</td>\n",
       "      <td>0.0</td>\n",
       "      <td>0.0</td>\n",
       "      <td>...</td>\n",
       "      <td>0.0</td>\n",
       "      <td>0.0</td>\n",
       "      <td>0.0</td>\n",
       "      <td>0.0</td>\n",
       "      <td>0.0</td>\n",
       "      <td>47.77</td>\n",
       "      <td>0.0</td>\n",
       "      <td>955.40</td>\n",
       "      <td>0.0</td>\n",
       "      <td>0</td>\n",
       "    </tr>\n",
       "    <tr>\n",
       "      <th>120543</th>\n",
       "      <td>0</td>\n",
       "      <td>0</td>\n",
       "      <td>28.19</td>\n",
       "      <td>2.0</td>\n",
       "      <td>0.0</td>\n",
       "      <td>16.0</td>\n",
       "      <td>0</td>\n",
       "      <td>0.0</td>\n",
       "      <td>0.0</td>\n",
       "      <td>0.0</td>\n",
       "      <td>...</td>\n",
       "      <td>0.0</td>\n",
       "      <td>0.0</td>\n",
       "      <td>0.0</td>\n",
       "      <td>0.0</td>\n",
       "      <td>0.0</td>\n",
       "      <td>0.00</td>\n",
       "      <td>0.0</td>\n",
       "      <td>902.08</td>\n",
       "      <td>0.0</td>\n",
       "      <td>0</td>\n",
       "    </tr>\n",
       "    <tr>\n",
       "      <th>142511</th>\n",
       "      <td>1</td>\n",
       "      <td>0</td>\n",
       "      <td>37.30</td>\n",
       "      <td>3.0</td>\n",
       "      <td>10.0</td>\n",
       "      <td>4.0</td>\n",
       "      <td>0</td>\n",
       "      <td>37.3</td>\n",
       "      <td>3.0</td>\n",
       "      <td>10.0</td>\n",
       "      <td>...</td>\n",
       "      <td>0.0</td>\n",
       "      <td>0.0</td>\n",
       "      <td>0.0</td>\n",
       "      <td>0.0</td>\n",
       "      <td>111.9</td>\n",
       "      <td>0.00</td>\n",
       "      <td>1119.0</td>\n",
       "      <td>447.60</td>\n",
       "      <td>0.0</td>\n",
       "      <td>0</td>\n",
       "    </tr>\n",
       "  </tbody>\n",
       "</table>\n",
       "<p>5 rows × 31 columns</p>\n",
       "</div>"
      ],
      "text/plain": [
       "        Sex  Depression    BMI  FriedPotato_Consumption  Alcohol_Consumption  \\\n",
       "143684    0           0  19.20                      4.0                  0.0   \n",
       "18803     0           0  24.75                      0.0                 28.0   \n",
       "244431    0           1  47.77                      1.0                  0.0   \n",
       "120543    0           0  28.19                      2.0                  0.0   \n",
       "142511    1           0  37.30                      3.0                 10.0   \n",
       "\n",
       "        Fruit_Consumption  Sex*Depression  Sex*BMI  \\\n",
       "143684               30.0               0      0.0   \n",
       "18803                60.0               0      0.0   \n",
       "244431               20.0               0      0.0   \n",
       "120543               16.0               0      0.0   \n",
       "142511                4.0               0     37.3   \n",
       "\n",
       "        Sex*FriedPotato_Consumption  Sex*Alcohol_Consumption  ...  \\\n",
       "143684                          0.0                      0.0  ...   \n",
       "18803                           0.0                      0.0  ...   \n",
       "244431                          0.0                      0.0  ...   \n",
       "120543                          0.0                      0.0  ...   \n",
       "142511                          3.0                     10.0  ...   \n",
       "\n",
       "        Sex*Depression*BMI  Sex*Depression*FriedPotato_Consumption  \\\n",
       "143684                 0.0                                     0.0   \n",
       "18803                  0.0                                     0.0   \n",
       "244431                 0.0                                     0.0   \n",
       "120543                 0.0                                     0.0   \n",
       "142511                 0.0                                     0.0   \n",
       "\n",
       "        Sex*Depression*Alcohol_Consumption  Sex*Depression*Fruit_Consumption  \\\n",
       "143684                                 0.0                               0.0   \n",
       "18803                                  0.0                               0.0   \n",
       "244431                                 0.0                               0.0   \n",
       "120543                                 0.0                               0.0   \n",
       "142511                                 0.0                               0.0   \n",
       "\n",
       "        BMI*FriedPotato_Consumption*Sex  \\\n",
       "143684                              0.0   \n",
       "18803                               0.0   \n",
       "244431                              0.0   \n",
       "120543                              0.0   \n",
       "142511                            111.9   \n",
       "\n",
       "        BMI*FriedPotato_Consumption*Depression  \\\n",
       "143684                                    0.00   \n",
       "18803                                     0.00   \n",
       "244431                                   47.77   \n",
       "120543                                    0.00   \n",
       "142511                                    0.00   \n",
       "\n",
       "        BMI*FriedPotato_Consumption*Alcohol_Consumption  \\\n",
       "143684                                              0.0   \n",
       "18803                                               0.0   \n",
       "244431                                              0.0   \n",
       "120543                                              0.0   \n",
       "142511                                           1119.0   \n",
       "\n",
       "        BMI*FriedPotato_Consumption*Fruit_Consumption  \\\n",
       "143684                                        2304.00   \n",
       "18803                                            0.00   \n",
       "244431                                         955.40   \n",
       "120543                                         902.08   \n",
       "142511                                         447.60   \n",
       "\n",
       "        Alcohol_Consumption*Depression*Fruit_Consumption  Heart_Disease  \n",
       "143684                                               0.0              0  \n",
       "18803                                                0.0              0  \n",
       "244431                                               0.0              0  \n",
       "120543                                               0.0              0  \n",
       "142511                                               0.0              0  \n",
       "\n",
       "[5 rows x 31 columns]"
      ]
     },
     "execution_count": 75,
     "metadata": {},
     "output_type": "execute_result"
    }
   ],
   "source": [
    "# Preparing a df with all the explanatory variables\n",
    "# list of all explanitory variables\n",
    "variables = ['Sex',\t'Depression', 'BMI', 'FriedPotato_Consumption', 'Alcohol_Consumption', 'Fruit_Consumption']\n",
    "# list of all the variables pairs.\n",
    "variable_pairs = []\n",
    "for i in range(len(variables)):\n",
    "    for j in range(i+1, len(variables)):\n",
    "        variable_pairs.append((variables[i], variables[j])) # append the pair of variables to the list\n",
    "copy_df_sample_logistic = df_sample_logistic[variables].copy()\n",
    "\n",
    "# Adding the interaction terms to the df.\n",
    "for pair in variable_pairs:\n",
    "    copy_df_sample_logistic[pair[0] + '*' + pair[1]] = copy_df_sample_logistic[pair[0]] * copy_df_sample_logistic[pair[1]]\n",
    "\n",
    "# adding more interaction from a higher degree to get a df with the size of 30 explanatory variables, first all the 1st degree interactions, then enough 2nd degree interactions to get to 30 variables.\n",
    "interaction_varibles=['Sex*Depression', 'BMI*FriedPotato_Consumption']\n",
    "for pair in interaction_varibles:\n",
    "    for variable in variables:\n",
    "        copy_df_sample_logistic[pair + '*' + variable] = copy_df_sample_logistic[pair] * copy_df_sample_logistic[variable]\n",
    "\n",
    "# Drop all the columns with duplicates.\n",
    "copy_df_sample_logistic=copy_df_sample_logistic.drop(columns=['BMI*FriedPotato_Consumption*FriedPotato_Consumption', 'BMI*FriedPotato_Consumption*BMI',  'Sex*Depression*Sex', 'Sex*Depression*Depression' ])\n",
    "copy_df_sample_logistic['Alcohol_Consumption' + '*' + 'Depression*Fruit_Consumption'] = copy_df_sample_logistic['Alcohol_Consumption'] * copy_df_sample_logistic['Depression*Fruit_Consumption']\n",
    "copy_df_sample_logistic.head()\n",
    "# Adding the target variable to the df.\n",
    "y= df_sample_logistic['Heart_Disease']\n",
    "#copy_df_sample_logistic = copy_df_sample_logistic.assign(ones=1) # Adding a column of ones to the df for regression purposes.\n",
    "copy_df_sample_logistic['Heart_Disease'] = y # Adding the target variable to the df.\n",
    "copy_df_sample_logistic.head()"
   ]
  },
  {
   "cell_type": "code",
   "execution_count": 96,
   "metadata": {},
   "outputs": [],
   "source": [
    "# Forward Stepwise Regression\n",
    "# Defining a function to perform forward stepwise regression using np and pd based on a AIC we defined before. returns the names of the best model's variables and the AIC value.\n",
    "def forward_stepwise_regression_AIC(df, target_variable):\n",
    "    \"\"\"\n",
    "    This function performs forward stepwise regression using np and pd based on a AIC we defined before.\n",
    "    \n",
    "    :param df: The DataFrame with the target variable and the explanatory variables.\n",
    "    :param target_variable: The name of the target variable.\n",
    "    :return: The names of the best model's variables and the AIC value.\n",
    "    \"\"\"\n",
    "    # Defining the variables\n",
    "    variables = df.columns.tolist()\n",
    "    variables.remove(target_variable) # remove the target variable from the list of variables\n",
    "    best_model = [] # list to store the best model's variables\n",
    "    best_AIC = -np.inf # set the best AIC to infinity\n",
    "    current_AIC = 0 # set the current AIC to 0\n",
    "    # Looping over the variables\n",
    "    for variable in variables:\n",
    "        # Adding the variable to the best model\n",
    "        best_model.append(variable)\n",
    "        # Fitting the model\n",
    "        model = LogisticRegression(penalty='none', fit_intercept=False, max_iter=1000, solver='lbfgs')\n",
    "        model.fit(df[best_model].assign(ones=1), df[target_variable])\n",
    "        # Calculating the AIC\n",
    "        current_AIC = AIC(df[target_variable], df[best_model].assign(ones=1).to_numpy(), model.coef_[0])\n",
    "        # Checking if the current AIC is better than the best AIC\n",
    "        if current_AIC > best_AIC:\n",
    "            best_AIC = current_AIC\n",
    "        else:\n",
    "            best_model.remove(variable)\n",
    "    return best_model, best_AIC\n",
    "\n",
    "\n",
    "# Backward Stepwise Regression\n",
    "# Defining a function to perform backward stepwise regression using np and pd based on a AIC we defined before. returns the names of the best model's variables and the AIC value.\n",
    "def backward_stepwise_regression_AIC(df, target_variable):\n",
    "    \"\"\"\n",
    "    This function performs backward stepwise regression using np and pd based on a AIC we defined before.\n",
    "    \n",
    "    :param df: The DataFrame with the target variable and the explanatory variables.\n",
    "    :param target_variable: The name of the target variable.\n",
    "    :return: The names of the best model's variables and the AIC value.\n",
    "    \"\"\"\n",
    "    # Defining the variables\n",
    "    variables = df.columns.tolist()\n",
    "    variables.remove(target_variable) # remove the target variable from the list of variables\n",
    "    best_model = variables.copy() # list to store the best model's variables\n",
    "    first_model = LogisticRegression(penalty='none', fit_intercept=False, max_iter=1000, solver='lbfgs')\n",
    "    first_model.fit(df[best_model].assign(ones=1), df[target_variable])\n",
    "    best_AIC = AIC(df[target_variable], df[best_model].assign(ones=1).to_numpy(), first_model.coef_[0]) # set the best AIC to the AIC of the first model\n",
    "    current_AIC = 0 # set the current AIC to 0\n",
    "    # Looping over the variables\n",
    "    for variable in variables:\n",
    "        # Removing the variable from the best model\n",
    "        best_model.remove(variable)\n",
    "        # Fitting the model\n",
    "        model = LogisticRegression(penalty='none', fit_intercept=False, max_iter=1000, solver='lbfgs')\n",
    "        model.fit(df[best_model].assign(ones=1), df[target_variable])\n",
    "        # Calculating the AIC\n",
    "        current_AIC = AIC(df[target_variable], df[best_model].assign(ones=1).to_numpy(), model.coef_[0])\n",
    "        # Checking if the current AIC is better than the best AIC\n",
    "        if current_AIC > best_AIC:\n",
    "            best_AIC = current_AIC\n",
    "        else:\n",
    "            best_model.append(variable)\n",
    "    return best_model, best_AIC\n"
   ]
  },
  {
   "cell_type": "code",
   "execution_count": 97,
   "metadata": {},
   "outputs": [
    {
     "name": "stdout",
     "output_type": "stream",
     "text": [
      "The best model's variables using forward stepwise regression are: ['Sex', 'Depression', 'BMI', 'Sex*Alcohol_Consumption', 'Sex*Fruit_Consumption', 'Depression*Alcohol_Consumption', 'Depression*Fruit_Consumption'] with an AIC value of: -34.9887\n",
      "The best model's variables using backward stepwise regression are: ['BMI', 'Fruit_Consumption', 'Sex*BMI', 'Sex*Fruit_Consumption', 'BMI*FriedPotato_Consumption', 'BMI*Fruit_Consumption', 'Alcohol_Consumption*Fruit_Consumption', 'Sex*Depression*BMI', 'BMI*FriedPotato_Consumption*Depression', 'Alcohol_Consumption*Depression*Fruit_Consumption'] with an AIC value of: -38.5010\n",
      "with an AIC value of: -38.5010\n"
     ]
    }
   ],
   "source": [
    "# Ignoring the errors in the next cell, as the code is working and the output is correct.\n",
    "import warnings\n",
    "from sklearn.exceptions import ConvergenceWarning\n",
    "\n",
    "warnings.simplefilter(action='ignore', category=FutureWarning)\n",
    "warnings.filterwarnings(\"ignore\", category=ConvergenceWarning)\n",
    "# Performing the forward stepwise regression \n",
    "#variables = copy_df_sample_logistic.columns.tolist()\n",
    "\n",
    "best_model, best_AIC_f = forward_stepwise_regression_AIC(copy_df_sample_logistic, 'Heart_Disease')\n",
    "print(f\"The best model's variables using forward stepwise regression are: {best_model} with an AIC value of: {best_AIC_f:.4f}\")\n",
    "# Performing the backward stepwise regression\n",
    "best_model, best_AIC_b = backward_stepwise_regression_AIC(copy_df_sample_logistic, 'Heart_Disease')\n",
    "print(f\"The best model's variables using backward stepwise regression are: {best_model} with an AIC value of: {best_AIC_b:.4f}\")\n",
    "print(f\"with an AIC value of: {best_AIC_b:.4f}\")\n"
   ]
  },
  {
   "cell_type": "markdown",
   "metadata": {},
   "source": [
    "<div dir=\"rtl\" style=\"text-align: right;\">\n",
    " נשים לב שקיבלנו מודלים שונים מהרצת 2 האלגוריתמים, אם כי עם מדד AIC קרוב מאוד בין 2 ההרצות. במקרה של מדידה על פי מדד AIC, שיטת הBackward Stepwise Regression הניבה מודל עם מדד גבוה יותר, ועל כן מודל טוב יותר.\n",
    "\n",
    "</div>"
   ]
  },
  {
   "cell_type": "code",
   "execution_count": 98,
   "metadata": {},
   "outputs": [],
   "source": [
    "# Defining the BIC function.\n",
    "def BIC(y, X, beta_estimator):\n",
    "    \"\"\"\n",
    "    This function calculates the Bayesian Information Criterion (BIC) for a logistic regression model.\n",
    "    \n",
    "    :param y: The target variable.\n",
    "    :param X: The feature matrix.\n",
    "    :param beta: The coefficients vector.\n",
    "    :return: The BIC value.\n",
    "    \"\"\"\n",
    "    s = X.shape[1]\n",
    "    inner_prod = X @ beta_estimator\n",
    "    L = np.sum(y * inner_prod - np.log(1+np.exp(inner_prod)))\n",
    "    return L - (s/2)*np.log(n)"
   ]
  },
  {
   "cell_type": "code",
   "execution_count": 99,
   "metadata": {},
   "outputs": [],
   "source": [
    "# Defining a function to perform forward stepwise regression using np and pd based on a BIC we defined before. returns the names of the best model's variables and the BIC value.\n",
    "def forward_stepwise_regression_BIC(df, target_variable):\n",
    "    \"\"\"\n",
    "    This function performs forward stepwise regression using np and pd based on a BIC we defined before.\n",
    "    \n",
    "    :param df: The DataFrame with the target variable and the explanatory variables.\n",
    "    :param target_variable: The name of the target variable.\n",
    "    :return: The names of the best model's variables and the BIC value.\n",
    "    \"\"\"\n",
    "    # Defining the variables\n",
    "    variables = df.columns.tolist()\n",
    "    variables.remove(target_variable) # remove the target variable from the list of variables\n",
    "    best_model = [] # list to store the best model's variables\n",
    "    best_BIC = -np.inf # set the best BIC to infinity\n",
    "    current_BIC = 0 # set the current BIC to 0\n",
    "    # Looping over the variables\n",
    "    for variable in variables:\n",
    "        # Adding the variable to the best model\n",
    "        best_model.append(variable)\n",
    "        # Fitting the model\n",
    "        model = LogisticRegression(penalty='none', fit_intercept=False, max_iter=1000, solver='lbfgs')\n",
    "        model.fit(df[best_model].assign(ones=1), df[target_variable])\n",
    "        # Calculating the BIC\n",
    "        current_BIC = BIC(df[target_variable], df[best_model].assign(ones=1).to_numpy(), model.coef_[0])\n",
    "        # Checking if the current BIC is better than the best BIC\n",
    "        if current_BIC > best_BIC:\n",
    "            best_BIC = current_BIC\n",
    "        else:\n",
    "            best_model.remove(variable)\n",
    "    return best_model, best_BIC\n",
    "\n",
    "\n",
    "# Backward Stepwise Regression\n",
    "# Defining a function to perform backward stepwise regression using np and pd based on a BIC we defined before. returns the names of the best model's variables and the BIC value.\n",
    "def backward_stepwise_regression_BIC(df, target_variable):\n",
    "    \"\"\"\n",
    "    This function performs backward stepwise regression using np and pd based on a BIC we defined before.\n",
    "    \n",
    "    :param df: The DataFrame with the target variable and the explanatory variables.\n",
    "    :param target_variable: The name of the target variable.\n",
    "    :return: The names of the best model's variables and the BIC value.\n",
    "    \"\"\"\n",
    "    # Defining the variables\n",
    "    variables = df.columns.tolist()\n",
    "    variables.remove(target_variable) # remove the target variable from the list of variables\n",
    "    best_model = variables.copy() # list to store the best model's variables\n",
    "    first_model = LogisticRegression(penalty='none', fit_intercept=False, max_iter=1000, solver='lbfgs')\n",
    "    first_model.fit(df[best_model].assign(ones=1), df[target_variable])\n",
    "    best_BIC = BIC(df[target_variable], df[best_model].assign(ones=1).to_numpy(), first_model.coef_[0]) # set the best BIC to the BIC of the first model\n",
    "    current_BIC = 0 # set the current BIC to 0\n",
    "    # Looping over the variables\n",
    "    for variable in variables:\n",
    "        # Removing the variable from the best model\n",
    "        best_model.remove(variable)\n",
    "        # Fitting the model\n",
    "        model = LogisticRegression(penalty='none', fit_intercept=False, max_iter=1000, solver='lbfgs')\n",
    "        model.fit(df[best_model].assign(ones=1), df[target_variable])\n",
    "        # Calculating the BIC\n",
    "        current_BIC = BIC(df[target_variable], df[best_model].assign(ones=1).to_numpy(), model.coef_[0])\n",
    "        # Checking if the current BIC is better than the best BIC\n",
    "        if current_BIC > best_BIC:\n",
    "            best_BIC = current_BIC\n",
    "        else:\n",
    "            best_model.append(variable)\n",
    "    return best_model, best_BIC\n"
   ]
  },
  {
   "cell_type": "code",
   "execution_count": 101,
   "metadata": {},
   "outputs": [
    {
     "name": "stdout",
     "output_type": "stream",
     "text": [
      "The best model's variables using forward stepwise regression are: ['Sex', 'BMI', 'Sex*Alcohol_Consumption', 'Depression*Alcohol_Consumption'] with an BIC value of: -43.1188\n"
     ]
    },
    {
     "name": "stdout",
     "output_type": "stream",
     "text": [
      "The best model's variables using backward stepwise regression are: ['BMI', 'Fruit_Consumption', 'Sex*BMI', 'Sex*Fruit_Consumption', 'BMI*Fruit_Consumption', 'Alcohol_Consumption*Depression*Fruit_Consumption'] with an BIC value of: -47.9664\n"
     ]
    }
   ],
   "source": [
    "# Performing the forward stepwise regression \n",
    "best_model_f, best_BIC_f = forward_stepwise_regression_BIC(copy_df_sample_logistic, 'Heart_Disease')\n",
    "print(f\"The best model's variables using forward stepwise regression are: {best_model_f} with an BIC value of: {best_BIC_f:.4f}\")\n",
    "# Performing the backward stepwise regression\n",
    "best_model_b, best_BIC_b = backward_stepwise_regression_BIC(copy_df_sample_logistic, 'Heart_Disease')\n",
    "print(f\"The best model's variables using backward stepwise regression are: {best_model_b} with an BIC value of: {best_BIC_b:.4f}\")\n",
    "\n",
    "\n"
   ]
  },
  {
   "cell_type": "markdown",
   "metadata": {},
   "source": [
    "<div dir=\"rtl\" style=\"text-align: right;\">\n",
    " נשים לב שקיבלנו מודלים שונים מהרצת 2 האלגוריתמים על פי מדד BIC ושנעדיף הפעם את Forward Stepwise Regression. ראינו בתרגול כי מדד הBIC מחמיר יותר מאשר מדד הAIC כאשר מדובר במודלים מורכבים, ולכן התוצאה שקיבלנו - כי עדיף את המודל שנבחר בForward Stepwise Regression שכן הוא המודל הפחות מורכב (4 פרמטרים לעומת 6) הוא המודל המועדף היא תוצאה הגיונית.\n",
    " ההבדל בין הסעיפים נובע מחומרת מדד הBIC. עוד נשים לב, כי הערכים עצמם נמוכים יותר מאשר ערכי הAIC על אף שהמודלים בכללותם בשתי ההרצות מכילים פחות פרמטרים בהרצת סעיף זה. המודלים שקיבלנו מהרצת סעיף זה הם בעצם תתי מודלים של אלה שקיבלנו על פי מדד הAIC, ולכן לאור זאת ולאור העובדה שBIC מעניש יותר על בחירת פרמטרים מרובים, היינו בוחרים במודל הטוב יותר על פי BIC כדי להסביר את הקשר בין המשתנים שלנו. \n",
    "</div>"
   ]
  },
  {
   "cell_type": "markdown",
   "metadata": {},
   "source": [
    "-----------------------------------------------------------------------------------------------------------"
   ]
  }
 ],
 "metadata": {
  "kernelspec": {
   "display_name": "base",
   "language": "python",
   "name": "python3"
  },
  "language_info": {
   "codemirror_mode": {
    "name": "ipython",
    "version": 3
   },
   "file_extension": ".py",
   "mimetype": "text/x-python",
   "name": "python",
   "nbconvert_exporter": "python",
   "pygments_lexer": "ipython3",
   "version": "3.9.7"
  }
 },
 "nbformat": 4,
 "nbformat_minor": 2
}
