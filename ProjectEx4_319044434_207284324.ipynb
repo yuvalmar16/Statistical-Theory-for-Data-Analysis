{
 "cells": [
  {
   "cell_type": "code",
   "execution_count": 1,
   "metadata": {},
   "outputs": [],
   "source": [
    "# Imports\n",
    "## For some arithmetic and Matrix Operations\n",
    "import numpy as np\n",
    "\n",
    "## Dataframe Manipulation\n",
    "import pandas as pd\n",
    "\n",
    "## For Visualization\n",
    "import matplotlib.pyplot as plt\n",
    "\n",
    "## For Visualization too\n",
    "import seaborn as sns\n",
    "\n",
    "## For Statistical Analysis\n",
    "from scipy import stats\n",
    "\n"
   ]
  },
  {
   "cell_type": "markdown",
   "metadata": {},
   "source": [
    "# Part 1 - Linear Regression"
   ]
  },
  {
   "cell_type": "markdown",
   "metadata": {},
   "source": [
    "    Continuting with the same Hypothesis, explainatory variables and sub-class of samples from Project 3 part 1."
   ]
  },
  {
   "cell_type": "markdown",
   "metadata": {},
   "source": [
    "For this part we will continue with the Explainatory variables: \n",
    "* Gender - Categorial variable.\n",
    "* Monthly Alcohol Consumption - Continuous variable.\n",
    "* Monthly Fruit Consumption - Continuous variable.\n",
    "And the Explained variable:\n",
    "* BMI - Continuous variable.\n"
   ]
  },
  {
   "cell_type": "markdown",
   "metadata": {},
   "source": [
    "**Hypothesis**: How Do Gender, Alcohol consumption and Fruit consumption affect BMI?"
   ]
  },
  {
   "cell_type": "markdown",
   "metadata": {},
   "source": [
    "\n",
    "    Sampling a 200 sized data for the rest of the question same as in Project 3 part 1"
   ]
  },
  {
   "cell_type": "code",
   "execution_count": 2,
   "metadata": {},
   "outputs": [],
   "source": [
    "# Load the data\n",
    "df = pd.read_csv('df_for_proj (1).csv')\n",
    "# Renaming the 'Sex' column to 'Gender'\n",
    "df.rename(columns={'Sex':'Gender'}, inplace=True)\n",
    "\n",
    "# Picking a random sample of 200 rows.\n",
    "np.random.seed(314)\n",
    "df_sample_200 = df.sample(200)"
   ]
  },
  {
   "cell_type": "markdown",
   "metadata": {},
   "source": [
    "    Calculating the coefficients vector of the Linear regression - beta, same as in Project 3 part 1\n",
    "    "
   ]
  },
  {
   "cell_type": "code",
   "execution_count": 3,
   "metadata": {},
   "outputs": [
    {
     "name": "stdout",
     "output_type": "stream",
     "text": [
      "The coefficients vector beta for the linear regression model BMI ~ X1:Alcohol Consumption , X2:Fruit Consumption, X3:Gender is: [-8.57990328e-02 -1.11878202e-02  1.95056386e+00  2.83024281e+01]\n",
      "The regression model is: y=-0.08579903284792036*X1 + -0.01118782018341976*X2 + 1.950563857302633*X3 + 28.30242808086157\n"
     ]
    }
   ],
   "source": [
    "# calculate the coeeficients vector beta for the linear regression model BMI ~ Alcohol Consumption, Fruit Consumption, Sex.\n",
    "\n",
    "# Split data into features and target\n",
    "X=df_sample_200[['Alcohol_Consumption','Fruit_Consumption', 'Gender']]\n",
    "# Adapt the target to the logistic regression\n",
    "y=df_sample_200['BMI']\n",
    "# Adding column of ones to the features\n",
    "X=X.assign(ones=1)\n",
    "\n",
    "# Convert the data to numpy arrays\n",
    "X = X.values\n",
    "y = y.values\n",
    "y=y.reshape([y.shape[0],]) # Reshape y to 1D array\n",
    "\n",
    "# Calculate the coefficients vector beta\n",
    "beta_200 = np.linalg.inv(X.T @ X) @ X.T @ y # b = (X^T * X)^-1 * X^T * y\n",
    "print(f\"The coefficients vector beta for the linear regression model BMI ~ X1:Alcohol Consumption , X2:Fruit Consumption, X3:Gender is: {beta_200}\")\n",
    "print(f'The regression model is: y={beta_200[0]}*X1 + {beta_200[1]}*X2 + {beta_200[2]}*X3 + {beta_200[3]}')\n",
    "\n"
   ]
  },
  {
   "cell_type": "markdown",
   "metadata": {},
   "source": [
    "## Part 1\n",
    "    Calculation the Confidence Intervals for each of the regression coefficients in different methods."
   ]
  },
  {
   "cell_type": "markdown",
   "metadata": {},
   "source": [
    "### Part 1.1.A\n",
    "    Calculating the Confidence Intervals based on the Normal Distribution approximation when the estimator for SE is based on the Covariance matrix of beta."
   ]
  },
  {
   "cell_type": "code",
   "execution_count": 4,
   "metadata": {},
   "outputs": [
    {
     "name": "stdout",
     "output_type": "stream",
     "text": [
      "The 95% confidence interval for the coefficient of Alcohol Consumption is: [-0.18749776  0.01589969]\n",
      "The 95% confidence interval for the coefficient of Fruit Consumption is: [-0.04655383  0.02417819]\n",
      "The 95% confidence interval for the coefficient of Gender is: [0.25488728 3.64624043]\n",
      "The 95% confidence interval for the bias term is: [26.61533362 29.98952254]\n"
     ]
    }
   ],
   "source": [
    "# Calculating the Confidence Intervals based on the Normal Distribution approximation when the estimator for SE is based on the Covariance matrix of beta.\n",
    "num_columns = X.shape[1] # Number of columns in the features matrix\n",
    "# Calculate the residuals\n",
    "residuals = y - X @ beta_200\n",
    "# Calculate the variance of the residuals\n",
    "variance_residuals = np.var(residuals)\n",
    "# Calculate the covariance matrix of beta\n",
    "cov_beta = np.linalg.inv(X.T @ X) * variance_residuals # Covariance matrix of beta = (X^T * X)^-1 * variance_residuals\n",
    "# Calculate the standard errors of the coefficients\n",
    "df_Error = X.shape[0] - 3 # Degrees of freedom for the Error : n-p. p=3 because we have 3 features.\n",
    "SE_beta = np.sqrt(np.diag(cov_beta))\n",
    "# se_alcohol=SE_beta[0] # Standard error of the coefficient for Alcohol Consumption.\n",
    "# se_fruit=SE_beta[1] # Standard error of the coefficient for Fruit Consumption.\n",
    "# se_gender=SE_beta[2] # Standard error of the coefficient for Gender.\n",
    "# se_bias=SE_beta[3] # Standard error of the bias term.\n",
    "# Calculate the 95% confidence intervals\n",
    "CI_var_matrix = np.zeros((num_columns,2))\n",
    "for i in range(num_columns):\n",
    "    CI_var_matrix[i] = [beta_200[i]-stats.norm.ppf(0.975)*SE_beta[i], beta_200[i]+stats.norm.ppf(0.975)*SE_beta[i]]\n",
    "print (f\"The 95% confidence interval for the coefficient of Alcohol Consumption is: {CI_var_matrix[0]}\")\n",
    "print (f\"The 95% confidence interval for the coefficient of Fruit Consumption is: {CI_var_matrix[1]}\")\n",
    "print (f\"The 95% confidence interval for the coefficient of Gender is: {CI_var_matrix[2]}\")\n",
    "print (f\"The 95% confidence interval for the bias term is: {CI_var_matrix[3]}\")\n"
   ]
  },
  {
   "cell_type": "markdown",
   "metadata": {},
   "source": [
    "### Part 1.1.B\n",
    "    Calculating the Confidence Intervals based on the Normal Distribution approximation when the estimator for SE is based on the Bootsrap method."
   ]
  },
  {
   "cell_type": "code",
   "execution_count": 5,
   "metadata": {},
   "outputs": [],
   "source": [
    "# Building a function to calculate the Confidence Intervals based on the Normal Distribution approximation when the estimator for SE is based on the Bootsrap method.\n",
    "def normal_aprox_bootstrap(X, y, num_bootstraps):\n",
    "    \"\"\"\n",
    "    Perform normal approximation bootstrap for linear regression.\n",
    "\n",
    "    Parameters:\n",
    "    X (numpy.ndarray): The independent variable matrix of shape (n, p), where n is the number of observations and p is the number of features.\n",
    "    y (numpy.ndarray): The dependent variable vector of shape (n,).\n",
    "    num_bootstraps (int): The number of bootstrap samples to generate.\n",
    "\n",
    "    Returns:\n",
    "    tuple: A tuple containing the confidence intervals and standard errors of the coefficients.\n",
    "        - CI_boot_mean (numpy.ndarray): The confidence intervals for each coefficient based on the normal distribution approximation. Vector of shape (p, 2), where p is the number of features.\n",
    "        - SE_boot_mean (numpy.ndarray): The standard errors of the coefficients. vector of shape (p,).\n",
    "\n",
    "    \"\"\"\n",
    "    # Number of observations\n",
    "    n = X.shape[0]\n",
    "    # Number of features\n",
    "    num_columns = X.shape[1] # Size of the columns of X.\n",
    "    # Initialize the matrix of coefficients\n",
    "    beta_boot = np.zeros((num_bootstraps, num_columns))\n",
    "    # Initialize the matrix of residuals\n",
    "    residuals_boot = np.zeros((num_bootstraps, n))\n",
    "    # Initialize the matrix of standard errors\n",
    "    SE_boot = np.zeros((num_bootstraps, num_columns))\n",
    "    # Initialize the matrix of confidence intervals\n",
    "    CI_boot = np.zeros((num_bootstraps, num_columns, 2))\n",
    "    # Loop over the bootstrap samples\n",
    "    for b in range(num_bootstraps):\n",
    "        # Generate the bootstrap sample\n",
    "        index_boot = np.random.choice(n, n, replace=True) # Generate a random sample of n observations with replacement.\n",
    "        X_boot = X[index_boot, :]\n",
    "        y_boot = y[index_boot]\n",
    "        # Calculate the coefficients vector beta\n",
    "        beta_boot[b, :] = np.linalg.inv(X_boot.T @ X_boot) @ X_boot.T @ y_boot\n",
    "        # Calculate the residuals\n",
    "        residuals_boot[b, :] = y_boot - X_boot @ beta_boot[b, :]\n",
    "        # Calculate the variance of the residuals\n",
    "        variance_residuals_boot = np.var(residuals_boot[b, :])\n",
    "        # Calculate the covariance matrix of beta\n",
    "        cov_beta_boot = np.linalg.inv(X_boot.T @ X_boot) * variance_residuals_boot\n",
    "        # Calculate the standard errors of the coefficients\n",
    "        SE_boot[b, :] = np.sqrt(np.diag(cov_beta_boot))\n",
    "        # Calculate the 95% confidence intervals\n",
    "        df_Error_boot = X_boot.shape[0] - X_boot.shape[1]\n",
    "        CI_boot[b, :, 0] = beta_boot[b, :] - stats.norm.ppf(0.975) * SE_boot[b, :]\n",
    "        CI_boot[b, :, 1] = beta_boot[b, :] + stats.norm.ppf(0.975) * SE_boot[b, :]\n",
    "    # Calculate the average of the coefficients\n",
    "    beta_boot_mean = np.mean(beta_boot, axis=0)\n",
    "    # Calculate the standard errors of the coefficients\n",
    "    SE_boot_mean = np.std(beta_boot, axis=0)\n",
    "    # Calculate the 95% confidence intervals for each coefficient based on the normal distribution approximation.\n",
    "    CI_boot_mean = np.zeros((num_columns, 2))\n",
    "    for i in range(num_columns):\n",
    "        CI_boot_mean[i, 0] = beta_boot_mean[i] - stats.norm.ppf(0.975) * SE_boot_mean[i]\n",
    "        CI_boot_mean[i, 1] = beta_boot_mean[i] + stats.norm.ppf(0.975) * SE_boot_mean[i]\n",
    "    return CI_boot_mean, SE_boot_mean\n"
   ]
  },
  {
   "cell_type": "code",
   "execution_count": 6,
   "metadata": {},
   "outputs": [
    {
     "name": "stdout",
     "output_type": "stream",
     "text": [
      "The 95% confidence interval for the coefficient of Alcohol Consumption is: [-0.16534069 -0.01214201]\n",
      "The 95% confidence interval for the coefficient of Fruit Consumption is: [-0.04698808  0.02552639]\n",
      "The 95% confidence interval for the coefficient of Gender is: [0.13013547 3.74396468]\n",
      "The 95% confidence interval for the bias term is: [26.31553562 30.32012216]\n"
     ]
    }
   ],
   "source": [
    "B = 400\n",
    "CI_boot_mean, _ = normal_aprox_bootstrap(X, y, B) # CI_boot_mean is the CI based on the Bootstrap method.\n",
    "print (f\"The 95% confidence interval for the coefficient of Alcohol Consumption is: {CI_boot_mean[0]}\")\n",
    "print (f\"The 95% confidence interval for the coefficient of Fruit Consumption is: {CI_boot_mean[1]}\")\n",
    "print (f\"The 95% confidence interval for the coefficient of Gender is: {CI_boot_mean[2]}\")\n",
    "print (f\"The 95% confidence interval for the bias term is: {CI_boot_mean[3]}\")\n"
   ]
  },
  {
   "cell_type": "markdown",
   "metadata": {},
   "source": [
    "### Part 1.1.C\n",
    "    Calculating the Confidence Intervals based on the Bootstrap method when the estimator for SE is based on the Pivot method."
   ]
  },
  {
   "cell_type": "code",
   "execution_count": 7,
   "metadata": {},
   "outputs": [
    {
     "name": "stdout",
     "output_type": "stream",
     "text": [
      "The 95% confidence interval for the coefficient of Alcohol Consumption is: [-0.16272462 -0.01251756]\n",
      "The 95% confidence interval for the coefficient of Fruit Consumption is: [-0.04391255  0.02492651]\n",
      "The 95% confidence interval for the coefficient of gender is: [0.18689827 3.59058614]\n",
      "The 95% confidence interval for the bias term is: [26.38405073 30.27758649]\n"
     ]
    }
   ],
   "source": [
    "# Calculating the Confidence Intervals based on the Bootstrap method when the estimator for SE is based on the Pivot method.\n",
    "# Build CI using pivotal method bootstrap\n",
    "n = X.shape[0]\n",
    "beta_boot=np.zeros((B,num_columns))\n",
    "residuals_boot=np.zeros((B,n))\n",
    "SE_boot=np.zeros((B,num_columns))\n",
    "\n",
    "for b in range(B):\n",
    "    index_boot=np.random.choice(n,n,replace=True)\n",
    "    X_boot=X[index_boot,:]\n",
    "    y_boot=y[index_boot]\n",
    "    beta_boot[b,:]=np.linalg.inv(X_boot.T @ X_boot) @ X_boot.T @ y_boot # b = (X^T * X)^-1 * X^T * y\n",
    "    residuals_boot[b,:]=y_boot - X_boot @ beta_boot[b,:]\n",
    "    variance_residuals_boot = np.var(residuals_boot[b,:])\n",
    "    cov_beta_boot = np.linalg.inv(X_boot.T @ X_boot) * variance_residuals_boot\n",
    "    SE_boot[b,:]=np.sqrt(np.diag(cov_beta_boot))\n",
    "\n",
    "CI_boot_pivotal=np.zeros((num_columns,2))\n",
    "for i in range(num_columns):\n",
    "    CI_boot_pivotal[i,0]=2*beta_200[i]-np.quantile(beta_boot[:,i],0.975) # CI = 2*beta - quantile(0.975) of the bootstrap distribution (lower bound)\n",
    "    CI_boot_pivotal[i,1]=2*beta_200[i]-np.quantile(beta_boot[:,i],0.025) # CI = 2*beta - quantile(0.025) of the bootstrap distribution (upper bound)\n",
    "print(f\"The 95% confidence interval for the coefficient of Alcohol Consumption is: {CI_boot_pivotal[0]}\")\n",
    "print(f\"The 95% confidence interval for the coefficient of Fruit Consumption is: {CI_boot_pivotal[1]}\")\n",
    "print(f\"The 95% confidence interval for the coefficient of gender is: {CI_boot_pivotal[2]}\")\n",
    "print(f\"The 95% confidence interval for the bias term is: {CI_boot_pivotal[3]}\")\n"
   ]
  },
  {
   "cell_type": "markdown",
   "metadata": {},
   "source": [
    "### Part 1.1.D\n",
    "    Calculating the Confidence Intervals based on the Normal Distribution approximation when the estimator for SE is based on the Quantiles method."
   ]
  },
  {
   "cell_type": "code",
   "execution_count": 8,
   "metadata": {},
   "outputs": [
    {
     "name": "stdout",
     "output_type": "stream",
     "text": [
      "The 95% confidence interval for the coefficient of Alcohol Consumption is: [-0.1590805  -0.00887344]\n",
      "The 95% confidence interval for the coefficient of Fruit Consumption is: [-0.04730215  0.02153691]\n",
      "The 95% confidence interval for the coefficient of Gender is: [0.31054157 3.71422944]\n",
      "The 95% confidence interval for the bias term is: [26.32726967 30.22080544]\n"
     ]
    }
   ],
   "source": [
    "# Calculating the Confidence Intervals based on the Normal Distribution approximation when the estimator for SE is based on the Quantiles method.\n",
    "# Build CI using quantiles method bootstrap\n",
    "CI_boot_quantiles=np.zeros((num_columns,2))\n",
    "for i in range(num_columns):\n",
    "    CI_boot_quantiles[i,0]=np.quantile(beta_boot[:,i],0.025) # Lower bound\n",
    "    CI_boot_quantiles[i,1]=np.quantile(beta_boot[:,i],0.975) # Upper bound\n",
    "print(f\"The 95% confidence interval for the coefficient of Alcohol Consumption is: {CI_boot_quantiles[0]}\")\n",
    "print(f\"The 95% confidence interval for the coefficient of Fruit Consumption is: {CI_boot_quantiles[1]}\")\n",
    "print(f\"The 95% confidence interval for the coefficient of Gender is: {CI_boot_quantiles[2]}\")\n",
    "print(f\"The 95% confidence interval for the bias term is: {CI_boot_quantiles[3]}\")\n",
    "\n"
   ]
  },
  {
   "cell_type": "markdown",
   "metadata": {},
   "source": [
    "## Part 1.2\n",
    "    Calculating the Confidence Intervals based on the Normal Distribution approximation when the estimator for SE is based on the Quantiles method. For each method we'll check whether the true beta is in the CI or not."
   ]
  },
  {
   "cell_type": "code",
   "execution_count": 9,
   "metadata": {},
   "outputs": [],
   "source": [
    "# Calculate the coefficients vector beta for the linear regression model based on the full data.\n",
    "df_all = df\n",
    "# Split data into features and target\n",
    "X=df_all[['Alcohol_Consumption','Fruit_Consumption', 'Gender']]\n",
    "# Adapt the target to the logistic regression\n",
    "y=df_all['BMI']\n",
    "# Adding column of ones to the features\n",
    "X=X.assign(ones=1)\n",
    "\n",
    "# Convert the data to numpy arrays\n",
    "X = X.values\n",
    "y = y.values\n",
    "y=y.reshape([y.shape[0],]) # Reshape y to 1D array\n",
    "\n",
    "# Calculate the coefficients vector beta\n",
    "beta_all = np.linalg.inv(X.T @ X) @ X.T @ y # b = (X^T * X)^-1 * X^T * y\n",
    "\n"
   ]
  },
  {
   "cell_type": "code",
   "execution_count": 10,
   "metadata": {},
   "outputs": [],
   "source": [
    "# A boolean function to recognize if the coefficient estimation is in the CI\n",
    "def is_in_CI(CI, beta):\n",
    "    \"\"\"\n",
    "    This function checks if the coefficient estimation is in the confidence interval.\n",
    "    \n",
    "    :param CI: A list of the confidence interval.\n",
    "    :param beta: The coefficient estimation.\n",
    "    :return: A boolean value.\n",
    "    \"\"\"\n",
    "    return CI[0] <= beta <= CI[1]"
   ]
  },
  {
   "cell_type": "code",
   "execution_count": 11,
   "metadata": {},
   "outputs": [],
   "source": [
    "# Building a function to print if the beta estimator of the full data is in the CI of the 200 sized df calculated by the different methods.\n",
    "def print_in_CI(CI, beta, method):\n",
    "    \"\"\"\n",
    "    This function prints if the beta estimator of the full data is in the confidence interval of the 200 sized df calculated by the different methods.\n",
    "    \n",
    "    :param CI: A list of the confidence interval.\n",
    "    :param beta: The coefficient estimation.\n",
    "    :param method: The method used to calculate the confidence interval.\n",
    "    \"\"\"\n",
    "    for i in range(len(beta)):\n",
    "        if is_in_CI(CI[i], beta[i]):\n",
    "            print(f\"The coefficient estimation beta_{(i+1)%4} IS in the confidence interval calculated by the {method} method.\")\n",
    "        else:\n",
    "            print(f\"The coefficient estimation beta_{(i+1)%4} IS NOT in the confidence interval calculated by the {method} method.\")\n",
    "            \n",
    "    "
   ]
  },
  {
   "cell_type": "code",
   "execution_count": 37,
   "metadata": {},
   "outputs": [
    {
     "data": {
      "image/png": "[encoded data removed]",
      "text/plain": [
       "<Figure size 800x600 with 1 Axes>"
      ]
     },
     "metadata": {},
     "output_type": "display_data"
    },
    {
     "name": "stdout",
     "output_type": "stream",
     "text": [
      "Variance matrix method:\n",
      "The coefficient estimation beta_1 IS in the confidence interval calculated by the Variance matrix method.\n",
      "The coefficient estimation beta_2 IS in the confidence interval calculated by the Variance matrix method.\n",
      "The coefficient estimation beta_3 IS NOT in the confidence interval calculated by the Variance matrix method.\n",
      "The coefficient estimation beta_0 IS in the confidence interval calculated by the Variance matrix method.\n",
      "\n",
      "Bootstrap Normal approximation method:\n",
      "The coefficient estimation beta_1 IS in the confidence interval calculated by the Bootstrap Normal approximation method.\n",
      "The coefficient estimation beta_2 IS in the confidence interval calculated by the Bootstrap Normal approximation method.\n",
      "The coefficient estimation beta_3 IS in the confidence interval calculated by the Bootstrap Normal approximation method.\n",
      "The coefficient estimation beta_0 IS in the confidence interval calculated by the Bootstrap Normal approximation method.\n",
      "\n",
      "Bootstrap pivotal method:\n",
      "The coefficient estimation beta_1 IS in the confidence interval calculated by the Bootstrap pivotal method.\n",
      "The coefficient estimation beta_2 IS in the confidence interval calculated by the Bootstrap pivotal method.\n",
      "The coefficient estimation beta_3 IS in the confidence interval calculated by the Bootstrap pivotal method.\n",
      "The coefficient estimation beta_0 IS in the confidence interval calculated by the Bootstrap pivotal method.\n",
      "\n",
      "Bootstrap quantiles method:\n",
      "The coefficient estimation beta_1 IS in the confidence interval calculated by the Bootstrap quantiles method.\n",
      "The coefficient estimation beta_2 IS in the confidence interval calculated by the Bootstrap quantiles method.\n",
      "The coefficient estimation beta_3 IS NOT in the confidence interval calculated by the Bootstrap quantiles method.\n",
      "The coefficient estimation beta_0 IS in the confidence interval calculated by the Bootstrap quantiles method.\n"
     ]
    }
   ],
   "source": [
    "# Comparing the confidence intervals length obtained by the different methods.\n",
    "# Calculate the length of the confidence intervals\n",
    "CI_length_var_matrix = CI_var_matrix[:,1] - CI_var_matrix[:,0]\n",
    "CI_length_boot_mean = CI_boot_mean[:,1] - CI_boot_mean[:,0]\n",
    "CI_length_boot_pivotal = CI_boot_pivotal[:,1] - CI_boot_pivotal[:,0]\n",
    "CI_length_boot_quantiles = CI_boot_quantiles[:,1] - CI_boot_quantiles[:,0]\n",
    "# Plot the length of the confidence intervals on the same graph with a bar plot\n",
    "plt.figure(figsize=(8,6))\n",
    "plt.bar(np.arange(num_columns), CI_length_var_matrix, width=0.2, label='Variance matrix')\n",
    "plt.bar(np.arange(num_columns)+0.2, CI_length_boot_mean, width=0.2, label='Bootstrap Normal approximation')\n",
    "plt.bar(np.arange(num_columns)+0.4, CI_length_boot_pivotal, width=0.2, label='Bootstrap pivotal')\n",
    "plt.bar(np.arange(num_columns)+0.6, CI_length_boot_quantiles, color='purple', width=0.2, label='Bootstrap quantiles')\n",
    "plt.xticks(np.arange(num_columns)+0.3, ['Alcohol Consumption', 'Fruit Consumption', 'Gender', 'Bias term'])\n",
    "plt.ylabel('Length of the confidence intervals')\n",
    "plt.legend()\n",
    "plt.title('Comparison of the length of the confidence intervals obtained by the different methods')\n",
    "plt.show()\n",
    "\n",
    "# Check if the coefficient estimation is in the confidence intervals for the different methods and the different coefficients. \n",
    "print('Variance matrix method:')\n",
    "print_in_CI(CI_var_matrix, beta_all, 'Variance matrix')\n",
    "print()\n",
    "print('Bootstrap Normal approximation method:')\n",
    "print_in_CI(CI_boot_mean, beta_all, 'Bootstrap Normal approximation')\n",
    "print()\n",
    "print('Bootstrap pivotal method:')\n",
    "print_in_CI(CI_boot_pivotal, beta_all, 'Bootstrap pivotal')\n",
    "print()\n",
    "print('Bootstrap quantiles method:')\n",
    "print_in_CI(CI_boot_quantiles, beta_all, 'Bootstrap quantiles')\n"
   ]
  },
  {
   "cell_type": "markdown",
   "metadata": {},
   "source": [
    "As we can see by the lengths comparison, the lengths of the CI according to the 'Pivotal' and 'Quantiles' methods are fairly the same for the Explainatory variables and the bias term, while the length according to the 'Variance matrix' method is different for Alcohol consumption and the same for the two other Explainatory variables. The biggest difference in lengths is seen in the Bias term, where the length according to the 'Variance matrix' method is the shortest and the two other methods gave the same lengths somewhere in between the two. the CI based on the 'Bootstrap Normal approximation' changes based on the different picks of indices for the bootstrap sampling."
   ]
  },
  {
   "cell_type": "markdown",
   "metadata": {},
   "source": [
    "## Part 1.3\n",
    "    Working on a new set of 100 samples that are not from the 200 existing samples"
   ]
  },
  {
   "cell_type": "markdown",
   "metadata": {},
   "source": [
    "### Part 1.3.A   \n",
    "    Predicting the point's value given X_new"
   ]
  },
  {
   "cell_type": "code",
   "execution_count": 13,
   "metadata": {},
   "outputs": [
    {
     "data": {
      "text/html": [
       "<div>\n",
       "<style scoped>\n",
       "    .dataframe tbody tr th:only-of-type {\n",
       "        vertical-align: middle;\n",
       "    }\n",
       "\n",
       "    .dataframe tbody tr th {\n",
       "        vertical-align: top;\n",
       "    }\n",
       "\n",
       "    .dataframe thead th {\n",
       "        text-align: right;\n",
       "    }\n",
       "</style>\n",
       "<table border=\"1\" class=\"dataframe\">\n",
       "  <thead>\n",
       "    <tr style=\"text-align: right;\">\n",
       "      <th></th>\n",
       "      <th>Unnamed: 0</th>\n",
       "      <th>Heart_Disease</th>\n",
       "      <th>Gender</th>\n",
       "      <th>Depression</th>\n",
       "      <th>BMI</th>\n",
       "      <th>FriedPotato_Consumption</th>\n",
       "      <th>Alcohol_Consumption</th>\n",
       "      <th>Fruit_Consumption</th>\n",
       "    </tr>\n",
       "  </thead>\n",
       "  <tbody>\n",
       "    <tr>\n",
       "      <th>173569</th>\n",
       "      <td>173569</td>\n",
       "      <td>0</td>\n",
       "      <td>0</td>\n",
       "      <td>0</td>\n",
       "      <td>39.48</td>\n",
       "      <td>1.0</td>\n",
       "      <td>0.0</td>\n",
       "      <td>30.0</td>\n",
       "    </tr>\n",
       "    <tr>\n",
       "      <th>10290</th>\n",
       "      <td>10290</td>\n",
       "      <td>0</td>\n",
       "      <td>1</td>\n",
       "      <td>1</td>\n",
       "      <td>27.37</td>\n",
       "      <td>4.0</td>\n",
       "      <td>0.0</td>\n",
       "      <td>5.0</td>\n",
       "    </tr>\n",
       "    <tr>\n",
       "      <th>113204</th>\n",
       "      <td>113204</td>\n",
       "      <td>1</td>\n",
       "      <td>0</td>\n",
       "      <td>1</td>\n",
       "      <td>30.13</td>\n",
       "      <td>12.0</td>\n",
       "      <td>0.0</td>\n",
       "      <td>4.0</td>\n",
       "    </tr>\n",
       "    <tr>\n",
       "      <th>116379</th>\n",
       "      <td>116379</td>\n",
       "      <td>0</td>\n",
       "      <td>1</td>\n",
       "      <td>0</td>\n",
       "      <td>26.39</td>\n",
       "      <td>1.0</td>\n",
       "      <td>8.0</td>\n",
       "      <td>8.0</td>\n",
       "    </tr>\n",
       "    <tr>\n",
       "      <th>282397</th>\n",
       "      <td>282397</td>\n",
       "      <td>0</td>\n",
       "      <td>0</td>\n",
       "      <td>0</td>\n",
       "      <td>21.97</td>\n",
       "      <td>4.0</td>\n",
       "      <td>0.0</td>\n",
       "      <td>30.0</td>\n",
       "    </tr>\n",
       "  </tbody>\n",
       "</table>\n",
       "</div>"
      ],
      "text/plain": [
       "        Unnamed: 0  Heart_Disease  Gender  Depression    BMI  \\\n",
       "173569      173569              0       0           0  39.48   \n",
       "10290        10290              0       1           1  27.37   \n",
       "113204      113204              1       0           1  30.13   \n",
       "116379      116379              0       1           0  26.39   \n",
       "282397      282397              0       0           0  21.97   \n",
       "\n",
       "        FriedPotato_Consumption  Alcohol_Consumption  Fruit_Consumption  \n",
       "173569                      1.0                  0.0               30.0  \n",
       "10290                       4.0                  0.0                5.0  \n",
       "113204                     12.0                  0.0                4.0  \n",
       "116379                      1.0                  8.0                8.0  \n",
       "282397                      4.0                  0.0               30.0  "
      ]
     },
     "execution_count": 13,
     "metadata": {},
     "output_type": "execute_result"
    }
   ],
   "source": [
    "sampled_indices = df_sample_200.index\n",
    "reduced_df = df_all.drop(sampled_indices) # get rid of the 200 samples we've worked with until now for this df.\n",
    "#sample 100 from the reduced data\n",
    "np.random.seed(314)\n",
    "df_sample_new_100 = reduced_df.sample(100) # sample 100 from the reduced data.\n",
    "df_sample_new_100.head()"
   ]
  },
  {
   "cell_type": "code",
   "execution_count": 14,
   "metadata": {},
   "outputs": [],
   "source": [
    "# predicting the y values for the new data by applying the coefficients vector beta on given X values\n",
    "X_new = df_sample_new_100[['Alcohol_Consumption', 'Fruit_Consumption', 'Gender']].assign(ones=1).values\n",
    "y_new_real = df_sample_new_100['BMI'].values\n",
    "y_new_pred = X_new @ beta_200"
   ]
  },
  {
   "cell_type": "markdown",
   "metadata": {},
   "source": [
    "### Part 1.3.B+C    \n",
    "    Calculating the confidence intervals for Y_new using the Bootstrap method and checking the appearance percentage"
   ]
  },
  {
   "cell_type": "code",
   "execution_count": 15,
   "metadata": {},
   "outputs": [
    {
     "name": "stdout",
     "output_type": "stream",
     "text": [
      "The percentage of times the true value is in the confidence interval is: 28.999999999999996%\n"
     ]
    }
   ],
   "source": [
    "# Calculating the confidence intervals for Y_new using the Bootstrap method and checking the appearance percentage. \n",
    "# Using the Normal approximation Bootstrap method to calculate the confidence intervals for Y_new\n",
    "B=400\n",
    "n=100\n",
    "\n",
    "# Initialize the matrix of predictions\n",
    "y_new_pred_boot=np.zeros((B,n))\n",
    "# Initialize the matrix of residuals\n",
    "residuals_new_boot=np.zeros((B,n))\n",
    "# Initialize the matrix of standard errors\n",
    "SE_new_boot=np.zeros((B,n))\n",
    "# Initialize the matrix of confidence intervals\n",
    "CI_new_boot=np.zeros((B,n,2))\n",
    "# Loop over the bootstrap samples\n",
    "for b in range(B):\n",
    "    # Generate the bootstrap sample\n",
    "    index_boot=np.random.choice(n,n,replace=True) # Generate a random sample of n observations with replacement.\n",
    "    X_boot=X_new[index_boot,:]\n",
    "    y_boot=y_new_pred[index_boot]\n",
    "    # Calculate the predictions\n",
    "    y_new_pred_boot[b,:]=X_boot @ beta_200\n",
    "    # Calculate the residuals\n",
    "    residuals_new_boot[b,:]=y_boot - y_new_pred_boot[b,:]\n",
    "    # Calculate the variance of the residuals\n",
    "    variance_residuals_new_boot = np.var(residuals_new_boot[b,:])\n",
    "    # Calculate the standard errors of the predictions\n",
    "    SE_new_boot[b,:]=np.sqrt(variance_residuals_new_boot)\n",
    "    # Calculate the 95% confidence intervals\n",
    "    df_Error_new_boot = X_boot.shape[0] - X_boot.shape[1]\n",
    "    CI_new_boot[b,:,0]=y_new_pred_boot[b,:]-stats.norm.ppf(0.975)*SE_new_boot[b,:]\n",
    "    CI_new_boot[b,:,1]=y_new_pred_boot[b,:]+stats.norm.ppf(0.975)*SE_new_boot[b,:]\n",
    "# Calculate the average of the predictions\n",
    "y_new_pred_boot_mean=np.mean(y_new_pred_boot,axis=0)\n",
    "# Calculate the standard errors of the predictions\n",
    "SE_new_boot_mean=np.std(y_new_pred_boot,axis=0)\n",
    "# Calculate the 95% confidence intervals for each prediction based on the normal distribution approximation.\n",
    "CI_new_boot_mean=np.zeros((n,2))\n",
    "for i in range(n):\n",
    "    CI_new_boot_mean[i,0]=y_new_pred_boot_mean[i]-stats.norm.ppf(0.975)*SE_new_boot_mean[i]\n",
    "    CI_new_boot_mean[i,1]=y_new_pred_boot_mean[i]+stats.norm.ppf(0.975)*SE_new_boot_mean[i]\n",
    "# Calculate the percentage of times the true value of y is in the confidence interval\n",
    "percentage_in_CI=np.mean((CI_new_boot_mean[:,0]<=y_new_real) & (y_new_real<=CI_new_boot_mean[:,1]))\n",
    "\n",
    "print(f\"The percentage of times the true value is in the confidence interval is: {percentage_in_CI*100}%\")\n",
    "\n",
    "\n"
   ]
  },
  {
   "cell_type": "markdown",
   "metadata": {},
   "source": [
    "As we can see, the percenrage is far from 95%. This outcome makes sense since we calculated the CI for E[Yi_new|Xi_new] and not for the prediction Yi_pred itself, so that the calculations did not depend on the variance of Y_new.\n",
    "The meaning of the result is that in 95% of cases, the value of E[Yi_new|Xi_new] will be contained inside the Confidence Interval but not necessarily the value of Y_new itself."
   ]
  },
  {
   "cell_type": "markdown",
   "metadata": {},
   "source": [
    "### Part 1.3.D\n",
    "    Discussing the calculations of Y_new's CI instead of it's Expectation based on Bootstrap\n",
    "    "
   ]
  },
  {
   "cell_type": "markdown",
   "metadata": {},
   "source": [
    "In the case of calculating the CI for Y_new itself, the variance consists of another component - the variance of the noise - $\\epsilon$ which is missing from the calcluations of the CI for E[Yi_new|Xi_new].\n",
    "So when calculating the CI for Y_new, we will calculate the S.E for the Bootstrap samples and in addition, the S.E for the noise $\\epsilon$"
   ]
  },
  {
   "cell_type": "markdown",
   "metadata": {},
   "source": [
    "## Part 2\n",
    "    Tests"
   ]
  },
  {
   "cell_type": "markdown",
   "metadata": {},
   "source": [
    "### Part 2.1\n",
    "    Writing the Hypothesis"
   ]
  },
  {
   "cell_type": "markdown",
   "metadata": {},
   "source": [
    "**The Hypothesis for this part:** Is the Distribution of alcohol consumption within people who are considered to be suffering from depression Stochastically bigger than the Distribution alcohol consumption within people who are not?"
   ]
  },
  {
   "cell_type": "markdown",
   "metadata": {},
   "source": [
    "### Part 2.2\n",
    "    Sampling a 200 sized data to work with"
   ]
  },
  {
   "cell_type": "code",
   "execution_count": 16,
   "metadata": {},
   "outputs": [
    {
     "data": {
      "text/html": [
       "<div>\n",
       "<style scoped>\n",
       "    .dataframe tbody tr th:only-of-type {\n",
       "        vertical-align: middle;\n",
       "    }\n",
       "\n",
       "    .dataframe tbody tr th {\n",
       "        vertical-align: top;\n",
       "    }\n",
       "\n",
       "    .dataframe thead th {\n",
       "        text-align: right;\n",
       "    }\n",
       "</style>\n",
       "<table border=\"1\" class=\"dataframe\">\n",
       "  <thead>\n",
       "    <tr style=\"text-align: right;\">\n",
       "      <th></th>\n",
       "      <th>Unnamed: 0</th>\n",
       "      <th>Heart_Disease</th>\n",
       "      <th>Sex</th>\n",
       "      <th>Depression</th>\n",
       "      <th>BMI</th>\n",
       "      <th>FriedPotato_Consumption</th>\n",
       "      <th>Alcohol_Consumption</th>\n",
       "      <th>Fruit_Consumption</th>\n",
       "    </tr>\n",
       "  </thead>\n",
       "  <tbody>\n",
       "    <tr>\n",
       "      <th>143684</th>\n",
       "      <td>143684</td>\n",
       "      <td>0</td>\n",
       "      <td>0</td>\n",
       "      <td>0</td>\n",
       "      <td>19.20</td>\n",
       "      <td>4.0</td>\n",
       "      <td>0.0</td>\n",
       "      <td>30.0</td>\n",
       "    </tr>\n",
       "    <tr>\n",
       "      <th>18803</th>\n",
       "      <td>18803</td>\n",
       "      <td>0</td>\n",
       "      <td>0</td>\n",
       "      <td>0</td>\n",
       "      <td>24.75</td>\n",
       "      <td>0.0</td>\n",
       "      <td>28.0</td>\n",
       "      <td>60.0</td>\n",
       "    </tr>\n",
       "    <tr>\n",
       "      <th>244431</th>\n",
       "      <td>244431</td>\n",
       "      <td>0</td>\n",
       "      <td>0</td>\n",
       "      <td>1</td>\n",
       "      <td>47.77</td>\n",
       "      <td>1.0</td>\n",
       "      <td>0.0</td>\n",
       "      <td>20.0</td>\n",
       "    </tr>\n",
       "    <tr>\n",
       "      <th>120543</th>\n",
       "      <td>120543</td>\n",
       "      <td>0</td>\n",
       "      <td>0</td>\n",
       "      <td>0</td>\n",
       "      <td>28.19</td>\n",
       "      <td>2.0</td>\n",
       "      <td>0.0</td>\n",
       "      <td>16.0</td>\n",
       "    </tr>\n",
       "    <tr>\n",
       "      <th>142511</th>\n",
       "      <td>142511</td>\n",
       "      <td>0</td>\n",
       "      <td>1</td>\n",
       "      <td>0</td>\n",
       "      <td>37.30</td>\n",
       "      <td>3.0</td>\n",
       "      <td>10.0</td>\n",
       "      <td>4.0</td>\n",
       "    </tr>\n",
       "  </tbody>\n",
       "</table>\n",
       "</div>"
      ],
      "text/plain": [
       "        Unnamed: 0  Heart_Disease  Sex  Depression    BMI  \\\n",
       "143684      143684              0    0           0  19.20   \n",
       "18803        18803              0    0           0  24.75   \n",
       "244431      244431              0    0           1  47.77   \n",
       "120543      120543              0    0           0  28.19   \n",
       "142511      142511              0    1           0  37.30   \n",
       "\n",
       "        FriedPotato_Consumption  Alcohol_Consumption  Fruit_Consumption  \n",
       "143684                      4.0                  0.0               30.0  \n",
       "18803                       0.0                 28.0               60.0  \n",
       "244431                      1.0                  0.0               20.0  \n",
       "120543                      2.0                  0.0               16.0  \n",
       "142511                      3.0                 10.0                4.0  "
      ]
     },
     "execution_count": 16,
     "metadata": {},
     "output_type": "execute_result"
    }
   ],
   "source": [
    "# Load the data\n",
    "df_all = pd.read_csv('df_for_proj (1).csv')\n",
    "\n",
    "# Picking a random sample of 200 rows.\n",
    "np.random.seed(314)\n",
    "df_sample_200_2 = df_all.sample(200)\n",
    "df_sample_200_2.head()\n",
    "\n",
    "\n"
   ]
  },
  {
   "cell_type": "markdown",
   "metadata": {},
   "source": [
    "    Plots to check if the data is distributed with a Normal distributions (for parts 3.A and 4.A)"
   ]
  },
  {
   "cell_type": "code",
   "execution_count": 17,
   "metadata": {},
   "outputs": [
    {
     "data": {
      "image/png": "[encoded data removed]",
      "text/plain": [
       "<Figure size 1000x300 with 2 Axes>"
      ]
     },
     "metadata": {},
     "output_type": "display_data"
    }
   ],
   "source": [
    "import matplotlib.pyplot as plt\n",
    "df_depressed = df_all[df_all['Depression']==1]\n",
    "fig,(ax1, ax2)= plt.subplots(1,2,figsize=(10,3))\n",
    "df_depressed['Alcohol_Consumption'].hist(edgecolor='black', grid=True, bins=20, ax=ax1)\n",
    "ax1.set_title(\"Alcohol consumption of depressed\")\n",
    "ax1.set_xlabel(\"Alcohol consumption\")\n",
    "ax1.set_ylabel(\"count\")\n",
    "\n",
    "df_not_Depressed = df_all[df_all['Depression']==0]\n",
    "df_not_Depressed['Alcohol_Consumption'].hist(edgecolor='black', grid=True, bins=20, ax=ax2)\n",
    "ax2.set_title(\"Alcohol consumption of not depressed\")\n",
    "ax2.set_xlabel(\"Alcohol consumption\")\n",
    "ax2.set_ylabel(\"count\")\n",
    "plt.show()"
   ]
  },
  {
   "cell_type": "code",
   "execution_count": 39,
   "metadata": {},
   "outputs": [
    {
     "data": {
      "image/png": "[encoded data removed]",
      "text/plain": [
       "<Figure size 1000x500 with 2 Axes>"
      ]
     },
     "metadata": {},
     "output_type": "display_data"
    }
   ],
   "source": [
    "from statsmodels.graphics.gofplots import qqplot\n",
    "# Lines to ignore warnings\n",
    "import warnings\n",
    "warnings.filterwarnings('ignore', category=UserWarning)\n",
    "warnings.filterwarnings('ignore', 'marker is redundantly defined.*', UserWarning)\n",
    "\n",
    "# QQ-plot of Alcohol Consumption of Depressed and Not Depressed to fit a Normal distribution on the full data.\n",
    "fig, ax = plt.subplots(1, 2, figsize=(10, 5))\n",
    "qqplot(df_depressed['Alcohol_Consumption'].values,fit=True, line='s', ax=ax[0])\n",
    "ax[0].set_title(\"QQ plot of alcohol consumption of depressed\")\n",
    "qqplot(df_not_Depressed['Alcohol_Consumption'].values ,fit=True, line='s', ax=ax[1])\n",
    "ax[1].set_title(\"QQ plot of alcohol consumption of not depressed\")\n",
    "plt.show()\n"
   ]
  },
  {
   "cell_type": "code",
   "execution_count": 40,
   "metadata": {},
   "outputs": [
    {
     "data": {
      "image/png": "[encoded data removed]",
      "text/plain": [
       "<Figure size 1000x500 with 2 Axes>"
      ]
     },
     "metadata": {},
     "output_type": "display_data"
    }
   ],
   "source": [
    "df_sample_depressed= df_sample_200_2[df_sample_200_2['Depression']==1]\n",
    "df_sample_not_depressed= df_sample_200_2[df_sample_200_2['Depression']==0] \n",
    "\n",
    "# QQ-plot of Alcohol consumption of depressed and not depressed for normal distribution on the 200 size sampled data.\n",
    "fig, ax = plt.subplots(1, 2, figsize=(10, 5))\n",
    "qqplot(df_sample_depressed['Alcohol_Consumption'].values,fit=True, line='s', ax=ax[0])\n",
    "ax[0].set_title(\"QQ plot of alcohol consumption of depressed\")\n",
    "qqplot(df_sample_not_depressed['Alcohol_Consumption'].values ,fit=True, line='s', ax=ax[1])\n",
    "ax[1].set_title(\"QQ plot of alcohol consumption of not depressed\")\n",
    "plt.show()"
   ]
  },
  {
   "cell_type": "markdown",
   "metadata": {},
   "source": [
    "### Part 2.3\n",
    "    Defining the expectations of the variables for each category\n",
    "    "
   ]
  },
  {
   "cell_type": "markdown",
   "metadata": {},
   "source": [
    "* $\\mu_1$ : The expectation of Alcohol consumption within the depressed people.\n",
    "* $\\mu_2$ : The expectation of Alcohol consumption within the not-depressed people."
   ]
  },
  {
   "cell_type": "markdown",
   "metadata": {},
   "source": [
    "#### Part 2.3.A\n",
    "    Estimating the expectations and the difference between them"
   ]
  },
  {
   "cell_type": "code",
   "execution_count": 20,
   "metadata": {},
   "outputs": [
    {
     "name": "stdout",
     "output_type": "stream",
     "text": [
      "The estimated mean of Alcohol consumption for the depressed group is: 5.955555555555556\n",
      "The estimated mean of Alcohol consumption for the not depressed group is: 4.529032258064516\n",
      "The estimated difference between the means of Alcohol consumption for the depressed and not depressed groups is: 1.4265232974910393\n"
     ]
    }
   ],
   "source": [
    "# Estimating mu_1, mu_2 and delta = mu_1 - mu_2\n",
    "# Split the data into two groups\n",
    "\n",
    "mu_1= np.mean(df_sample_depressed['Alcohol_Consumption'])\n",
    "mu_2= np.mean(df_sample_not_depressed['Alcohol_Consumption'])\n",
    "print(f\"The estimated mean of Alcohol consumption for the depressed group is: {mu_1}\")\n",
    "print(f\"The estimated mean of Alcohol consumption for the not depressed group is: {mu_2}\")\n",
    "delta = mu_1 - mu_2 \n",
    "print(f\"The estimated difference between the means of Alcohol consumption for the depressed and not depressed groups is: {delta}\")\n",
    "\n"
   ]
  },
  {
   "cell_type": "markdown",
   "metadata": {},
   "source": [
    "The data does not come from a Normal distribution - we can see that it comes from an A-symmetric distribution with a lond right tail and from the QQ- plots for a Normal distribution for both datasets. (With reference to the plots in the previous clause) If it were a Normal distribution then the Means would have been MLEs for each of the distributions and then the difference would also be an MLE from a theorem. But since the distribuiton is most likely not a Normal distribution, the condition does not hold, thus the mean is not an MLE, making the difference of means not an MLE either."
   ]
  },
  {
   "cell_type": "markdown",
   "metadata": {},
   "source": [
    "#### Part 2.3.B\n",
    "   "
   ]
  },
  {
   "cell_type": "markdown",
   "metadata": {},
   "source": [
    "calculating CI to $\\delta$"
   ]
  },
  {
   "cell_type": "code",
   "execution_count": 21,
   "metadata": {},
   "outputs": [
    {
     "name": "stdout",
     "output_type": "stream",
     "text": [
      "The 95% confidence interval for the difference between the means of Alcohol consumption for the depressed and not depressed groups is: [-1.5077988412099246, 4.360845436192003]\n"
     ]
    }
   ],
   "source": [
    "# Calculate conffidence interval to delta\n",
    "# Calculate the residuals\n",
    "sample_var_depressed = df_sample_depressed['Alcohol_Consumption'].var(ddof=0)\n",
    "sample_var_not_depressed = df_sample_not_depressed['Alcohol_Consumption'].var(ddof=0)\n",
    "\n",
    "quantile = stats.norm.ppf(0.975)\n",
    "num_depressed=len(df_sample_depressed)\n",
    "num_not_depressed =len(df_sample_not_depressed)\n",
    "SE = np.sqrt(sample_var_depressed/num_depressed + sample_var_not_depressed/num_not_depressed)\n",
    "CI_delta = [delta - quantile*SE, delta + quantile*SE]\n",
    "print(f\"The 95% confidence interval for the difference between the means of Alcohol consumption for the depressed and not depressed groups is: {CI_delta}\")"
   ]
  },
  {
   "cell_type": "markdown",
   "metadata": {},
   "source": [
    "#### Part 2.3.C\n",
    "    \n"
   ]
  },
  {
   "cell_type": "markdown",
   "metadata": {},
   "source": [
    "Esimating $\\delta$ based on the full dataset"
   ]
  },
  {
   "cell_type": "code",
   "execution_count": 22,
   "metadata": {},
   "outputs": [
    {
     "name": "stdout",
     "output_type": "stream",
     "text": [
      "Is delta_all in the confidence interval calculated for delta sampled? True\n"
     ]
    }
   ],
   "source": [
    "mu_1_all= np.mean(df_depressed['Alcohol_Consumption'])\n",
    "mu_2_all= np.mean(df_not_Depressed['Alcohol_Consumption'])\n",
    "delta_all = mu_1_all - mu_2_all\n",
    "# is delta_all in the CI above\n",
    "print(f\"Is delta_all in the confidence interval calculated for delta sampled? {CI_delta[0] <= delta_all <= CI_delta[1]}\")\n"
   ]
  },
  {
   "cell_type": "markdown",
   "metadata": {},
   "source": [
    "#### Part 2.3.D\n",
    "    Testing part A hypothesis using Wald and Permutation-tests for one sided hypothesis."
   ]
  },
  {
   "cell_type": "markdown",
   "metadata": {},
   "source": [
    "    Wald test:\n",
    " "
   ]
  },
  {
   "cell_type": "markdown",
   "metadata": {},
   "source": [
    " $H_0: \\delta = 0 $\n",
    "\n",
    "$H_1: \\delta > 0 $\n",
    "\n",
    "$T.S.: W = \\frac{(\\delta - \\delta_0)}{\\hat{s.e}}$\n",
    "\n",
    "$R.R.: |W| > z_{\\alpha/2}$ </br>"
   ]
  },
  {
   "cell_type": "code",
   "execution_count": 23,
   "metadata": {},
   "outputs": [
    {
     "name": "stdout",
     "output_type": "stream",
     "text": [
      "The p-value of the Wald test is: 0.1703360227991778\n",
      "Reject H0, the null hypothesis?  False\n"
     ]
    }
   ],
   "source": [
    "# Calculate the Wald statistic\n",
    "Wald = delta/SE\n",
    "p_value = 1-stats.norm.cdf(Wald)\n",
    "print(f\"The p-value of the Wald test is: {p_value}\")\n",
    "print(f\"Reject H0, the null hypothesis?  {Wald> quantile}\")\n"
   ]
  },
  {
   "cell_type": "markdown",
   "metadata": {},
   "source": [
    "    Permutation test based on Means difference:"
   ]
  },
  {
   "cell_type": "markdown",
   "metadata": {},
   "source": [
    " $H_0: F_X = F_Y $\n",
    "\n",
    "$H_1: F_X \\prec F_Y $\n",
    "\n",
    "$T.S.: \\hat{Y_n}-\\hat{X_m} $ \n",
    "\n",
    "$p-value: \\frac{I(T_j \\geq T_0)}{\\binom{N}{n}}$\n",
    "\n",
    "$R.R.: p-value < \\alpha$ </br>"
   ]
  },
  {
   "cell_type": "code",
   "execution_count": 24,
   "metadata": {},
   "outputs": [
    {
     "name": "stdout",
     "output_type": "stream",
     "text": [
      "The p-value of the permutation test is: 0.185\n",
      "Reject H0, the null hypothesis?  False\n"
     ]
    }
   ],
   "source": [
    "# Permutation test based on the difference between the means of Alcohol consumption for the depressed and not depressed groups.\n",
    "import random\n",
    "num_depressed = df_sample_depressed.shape[0]\n",
    "num_total_samples = df_sample_200_2.shape[0]\n",
    "counter = 0 # For the T.S\n",
    "B=400\n",
    "# Run simulations\n",
    "for b in range(B):\n",
    "    group_1_indices = random.sample(range(num_total_samples), num_depressed)\n",
    "    group_2_indices =[i for i in range(num_total_samples) if i not in group_1_indices]\n",
    "    group_1_alcohol = df_sample_200_2.iloc[group_1_indices]['Alcohol_Consumption']\n",
    "    group_2_alcohol = df_sample_200_2.iloc[group_2_indices]['Alcohol_Consumption']\n",
    "   \n",
    "    mu_1_permutation = np.mean(group_1_alcohol)\n",
    "    mu_2_permutation = np.mean(group_2_alcohol)\n",
    "    delta_permutation = mu_1_permutation - mu_2_permutation\n",
    "    if delta_permutation >= delta:\n",
    "        counter += 1\n",
    "p_value_permutation = counter / B # Note that in the case of simulations, the T.S becomes an average over B.\n",
    "print(f\"The p-value of the permutation test is: {p_value_permutation}\")\n",
    "print(f\"Reject H0, the null hypothesis?  {p_value_permutation < 0.05}\")\n"
   ]
  },
  {
   "cell_type": "markdown",
   "metadata": {},
   "source": [
    "### Part 2.4\n",
    "    Defining the Medians of the variables for each category"
   ]
  },
  {
   "cell_type": "markdown",
   "metadata": {},
   "source": [
    "#### Part 2.4.A\n",
    "    "
   ]
  },
  {
   "cell_type": "markdown",
   "metadata": {},
   "source": [
    "calculating CI to $\\delta$"
   ]
  },
  {
   "cell_type": "code",
   "execution_count": 25,
   "metadata": {},
   "outputs": [
    {
     "name": "stdout",
     "output_type": "stream",
     "text": [
      "The estimated median of Alcohol consumption for the depressed group is: 0.0\n",
      "The estimated median of Alcohol consumption for the not depressed group is: 0.0\n",
      "The estimated difference between the medians of Alcohol consumption for the depressed and not depressed groups is: 0.0\n"
     ]
    }
   ],
   "source": [
    "m_1= np.median(df_sample_depressed['Alcohol_Consumption'])\n",
    "m_2= np.median(df_sample_not_depressed['Alcohol_Consumption'])\n",
    "delta_median = m_1 -m_2\n",
    "print(f\"The estimated median of Alcohol consumption for the depressed group is: {m_1}\")\n",
    "print(f\"The estimated median of Alcohol consumption for the not depressed group is: {m_2}\")\n",
    "print(f\"The estimated difference between the medians of Alcohol consumption for the depressed and not depressed groups is: {delta_median}\")"
   ]
  },
  {
   "cell_type": "markdown",
   "metadata": {},
   "source": [
    "As we have mentioned before, the distribution of Alcohol consumption against depressed and not depressed is not a Normal distribution, so we cannot assume that the Median for each distribution is an MLE, thus making the difference of Medians not an MLE either. (The comparison to the graphs is with reference to the plots in the beggining of part 2)"
   ]
  },
  {
   "cell_type": "markdown",
   "metadata": {},
   "source": [
    "#### Part 2.4.B"
   ]
  },
  {
   "cell_type": "markdown",
   "metadata": {},
   "source": [
    "Esimating $\\delta$ based on the full dataset"
   ]
  },
  {
   "cell_type": "code",
   "execution_count": 26,
   "metadata": {},
   "outputs": [
    {
     "name": "stdout",
     "output_type": "stream",
     "text": [
      "The 95% confidence interval for the difference between the medians of Alcohol consumption for the depressed and not depressed groups is: [-2.934322138700964, 2.934322138700964]\n"
     ]
    }
   ],
   "source": [
    "#CI for the delta_median\n",
    "CI_delta = [delta_median - quantile*SE, delta_median + quantile*SE]\n",
    "print(f\"The 95% confidence interval for the difference between the medians of Alcohol consumption for the depressed and not depressed groups is: {CI_delta}\")"
   ]
  },
  {
   "cell_type": "markdown",
   "metadata": {},
   "source": [
    "#### Part 2.4.C"
   ]
  },
  {
   "cell_type": "markdown",
   "metadata": {},
   "source": [
    "Esimating $\\delta$ based on the full dataset"
   ]
  },
  {
   "cell_type": "code",
   "execution_count": 27,
   "metadata": {},
   "outputs": [
    {
     "name": "stdout",
     "output_type": "stream",
     "text": [
      "Is delta_all in the confidence interval calculated for delta sampled? True\n"
     ]
    }
   ],
   "source": [
    "m_1_all = np.median(df_depressed['Alcohol_Consumption'])\n",
    "m_2_all = np.median(df_not_Depressed['Alcohol_Consumption'])\n",
    "delta_median_all = m_1_all - m_2_all\n",
    "# Checking if delta_all is in the CI above.\n",
    "print(f\"Is delta_all in the confidence interval calculated for delta sampled? {CI_delta[0] <= delta_median_all <= CI_delta[1]}\")\n"
   ]
  },
  {
   "cell_type": "markdown",
   "metadata": {},
   "source": [
    "#### Part 2.4.D\n",
    "    Testing part A's hypothesis using a Permutation test."
   ]
  },
  {
   "cell_type": "markdown",
   "metadata": {},
   "source": [
    "    Permutation test based on Medians difference:\n",
    "    "
   ]
  },
  {
   "cell_type": "markdown",
   "metadata": {},
   "source": [
    " $H_0: F_X = F_Y $\n",
    "\n",
    "$H_1: F_X \\prec F_Y $\n",
    "\n",
    "$T.S.: M_y - Mx $ \n",
    "\n",
    "$p-value: \\frac{I(T_j \\geq T_0)}{\\binom{N}{n}}$\n",
    "\n",
    "$R.R.: p-value < \\alpha$ </br>"
   ]
  },
  {
   "cell_type": "code",
   "execution_count": 28,
   "metadata": {},
   "outputs": [
    {
     "name": "stdout",
     "output_type": "stream",
     "text": [
      "The p-value of the permutation test is: 0.9125\n",
      "Reject H0, the null hypothesis?  False\n"
     ]
    }
   ],
   "source": [
    "# Permutation test based on the difference between the medians of Alcohol consumption for the depressed and not depressed groups.\n",
    "num_depressed = df_sample_depressed.shape[0] # Number of depressed people in the sample\n",
    "num_total_samples = df_sample_200_2.shape[0] # Number of people in the sample\n",
    "counter = 0 # for the T.S\n",
    "B = 400\n",
    "# Run simulations.\n",
    "for b in range(B):\n",
    "    group_1_indices = random.sample(range(num_total_samples), num_depressed)\n",
    "    group_2_indices =[i for i in range(num_total_samples) if i not in group_1_indices]\n",
    "    group_1_alcohol = df_sample_200_2.iloc[group_1_indices]['Alcohol_Consumption']\n",
    "    group_2_alcohol = df_sample_200_2.iloc[group_2_indices]['Alcohol_Consumption']\n",
    "    m_1_permutation = np.median(group_1_alcohol)\n",
    "    m_2_permutation = np.median(group_2_alcohol)\n",
    "    delta_permutation = m_1_permutation - m_2_permutation\n",
    "    if delta_permutation >= delta_median:\n",
    "        counter += 1\n",
    "p_value_permutation = counter / B # Note that in the case of simulations, the T.S becomes an average over B.\n",
    "print(f\"The p-value of the permutation test is: {p_value_permutation}\")\n",
    "print(f\"Reject H0, the null hypothesis?  {p_value_permutation < 0.05}\")\n"
   ]
  },
  {
   "cell_type": "markdown",
   "metadata": {},
   "source": [
    "#### Part 2.4.E\n",
    "    Checking if Wald and T-test assumptions for part 2.4.D hold."
   ]
  },
  {
   "cell_type": "markdown",
   "metadata": {},
   "source": [
    "    T-test assumptions:"
   ]
  },
  {
   "cell_type": "markdown",
   "metadata": {},
   "source": [
    "**1.Normal Distribution of the data:**\n",
    " We can see from the histogram plots is part 2.2 that the distribution is **not** normal. Just by from already we can say that not all the assumptions for T-test hold.\n"
   ]
  },
  {
   "cell_type": "markdown",
   "metadata": {},
   "source": [
    "**2.Equal Variances:**\n",
    "we will use the F test to check the if the sample variances are equal:\n",
    "<br>\n",
    "$𝐻_0: 𝜎_𝑋\n",
    "^2 = 𝜎_𝑌\n",
    "^2$\n",
    "\n",
    "$𝐻_1: 𝜎_𝑋\n",
    "^2 ≠ 𝜎_𝑌\n",
    "^2\n",
    "$\n",
    "\n",
    "𝑇. 𝑆. : $𝐹$ =\n",
    "$𝑆_𝑋\n",
    "^2/\n",
    "𝑆_𝑌\n",
    "^2 $∼$F_(n-1,m-1)$\n",
    "\n",
    "\n",
    "𝑅. 𝑅. : $𝐹$ > $𝐹_(𝑛−1,𝑚−1)$"
   ]
  },
  {
   "cell_type": "code",
   "execution_count": 29,
   "metadata": {},
   "outputs": [
    {
     "name": "stdout",
     "output_type": "stream",
     "text": [
      "F statistic for test is:0.785572361418038\n",
      "F test quantile: 1.5324716967038685\n",
      "P value: 0.8558793738953656\n",
      "is in Rejection zone? False\n"
     ]
    }
   ],
   "source": [
    "import scipy.stats as stats\n",
    "\n",
    "sample_var_not_depressed = df_sample_not_depressed['Alcohol_Consumption'].var(ddof=0) # Variance of the Alcohol consumption for the not depressed group\n",
    "sample_var_depressed = df_sample_depressed['Alcohol_Consumption'].var(ddof=0) # Variance of the Alcohol consumption for the depressed group\n",
    "n_not_Depressed = len(df_sample_not_depressed)\n",
    "n_Depressed = len(df_sample_depressed)\n",
    "\n",
    "F_stat_test= sample_var_not_depressed/sample_var_depressed\n",
    "F_p_value= 1-stats.f.cdf(F_stat_test,n_not_Depressed-1,n_Depressed-1)\n",
    "F_test_quantile= stats.f.ppf(0.95,n_not_Depressed-1,n_Depressed-1)\n",
    "\n",
    "print(\"F statistic for test is:\"+ str(F_stat_test))\n",
    "print(\"F test quantile: \" + str(F_test_quantile))\n",
    "print(\"P value: \" +  str(F_p_value))\n",
    "print(\"is in Rejection zone? \"  + str(F_stat_test>F_test_quantile))"
   ]
  },
  {
   "cell_type": "markdown",
   "metadata": {},
   "source": [
    "We can see by the F_test that the variances of Alcohol consumption of depressed aginst Alcohol consumption of not depressed pepole are equal based on a F-test on the 200 sized data.\n",
    "\n",
    "<br>**3.Size of the data:** This assumption holds. our dataset is bigger than 30 querries.\n",
    "<br>**4.Independent Variables:** Another condition for using the T-test is independent variables.\n",
    "\n",
    "Since we saw that 1 of the 4 assumptions for the T-test does not hold, there is no need to continue checking.\n",
    "<br>To conclude, the assumptions for using the T-test **do not hold**."
   ]
  },
  {
   "cell_type": "markdown",
   "metadata": {},
   "source": [
    "    Wald-test assumptions:"
   ]
  },
  {
   "cell_type": "markdown",
   "metadata": {},
   "source": [
    "Since the estimator for the Medians difference is not an MLE, its not Asimptotically normal, so we can't use a Wald test in this case."
   ]
  },
  {
   "cell_type": "markdown",
   "metadata": {},
   "source": [
    "### Part 2.5\n",
    "    Defining the ranks and applying a Permutation test to check Part A's hypothesis.\n",
    "\n"
   ]
  },
  {
   "cell_type": "markdown",
   "metadata": {},
   "source": [
    "    Permutation test based on ranks:"
   ]
  },
  {
   "cell_type": "markdown",
   "metadata": {},
   "source": [
    " $H_0: F_X = F_Y $\n",
    "\n",
    "$H_1: F_X \\prec F_Y $\n",
    "\n",
    "$T.S.: \\sum_{i=1}^{n} S_i $ \n",
    "\n",
    "$p-value: \\frac{I(T_j \\geq T_0)}{\\binom{N}{n}}$\n",
    "\n",
    "$R.R.: p-value < \\alpha$ </br>"
   ]
  },
  {
   "cell_type": "code",
   "execution_count": 30,
   "metadata": {},
   "outputs": [
    {
     "name": "stdout",
     "output_type": "stream",
     "text": [
      "The sum of the ranks of Alcohol consumption for the depressed group is: 4686.0\n",
      "The p-value of the permutation test is: 0.275\n",
      "Reject H0, the null hypothesis? False\n"
     ]
    }
   ],
   "source": [
    "# Rank by alcohol consumption using a tie breaker method.\n",
    "# In case of a tie between ranks, take the middle rank.\n",
    "df_sample_200_2['Alcohol_cons_rank'] = df_sample_200_2['Alcohol_Consumption'].rank(method='average') # Rank the Alcohol consumption values. In case of a tie, break it like we've seen in class.\n",
    "S1 = df_sample_200_2[df_sample_200_2['Depression']==1]['Alcohol_cons_rank'].sum() # Sum of ranks for the depressed group\n",
    "\n",
    "B = 400  \n",
    "counter = 0\n",
    "\n",
    "# Permutation test based on the sum of ranks of Alcohol consumption for the depressed group.\n",
    "# Run simulations.\n",
    "for b in range(B):\n",
    "    # Shuffle the depression labels\n",
    "    group_1_indices = random.sample(range(num_total_samples), num_depressed)\n",
    "    s1_permutation = df_sample_200_2['Alcohol_cons_rank'].values[group_1_indices].sum()\n",
    "    if s1_permutation >= S1:\n",
    "        counter += 1\n",
    "\n",
    "p_value_permutation = counter / B # Note that in the case of simulations, the T.S becomes an average over B.\n",
    "print(f\"The sum of the ranks of Alcohol consumption for the depressed group is: {S1}\")\n",
    "print(f\"The p-value of the permutation test is: {p_value_permutation}\")\n",
    "print(f\"Reject H0, the null hypothesis? {p_value_permutation < 0.05}\")\n"
   ]
  },
  {
   "cell_type": "markdown",
   "metadata": {},
   "source": [
    " Using normal approximation: N = 200 > 30 and also all the values are continuous because we used a tie breaker (no ties so no binary values), thus we can use a Normal approximation\n"
   ]
  },
  {
   "cell_type": "code",
   "execution_count": 31,
   "metadata": {},
   "outputs": [
    {
     "name": "stdout",
     "output_type": "stream",
     "text": [
      "n = 45, m = 155, N = 200\n",
      "Reject H0, the null hypothesis?  False\n"
     ]
    }
   ],
   "source": [
    "# Using the Normal approximation to test the Hypothesis.\n",
    "N = num_depressed + num_not_depressed  \n",
    "n =num_depressed\n",
    "m = num_not_depressed\n",
    "print(f\"n = {n}, m = {m}, N = {N}\")\n",
    "expected = n*(N+1)/2\n",
    "var = n*m*(N+1)/12\n",
    "Z = (S1 - expected)/np.sqrt(var)\n",
    "print(f\"Reject H0, the null hypothesis?  {Z >= stats.norm.ppf(0.95)}\")"
   ]
  },
  {
   "cell_type": "markdown",
   "metadata": {},
   "source": [
    "As we can see, in all the methods - By simulations and by the Wald test, we are not rejecting the Null hypothesis, so there is a Stochastic equivalance in the distribution of Alcohol Consumption for each catagory."
   ]
  },
  {
   "cell_type": "markdown",
   "metadata": {},
   "source": [
    "### Part 2.6\n",
    "    Discussing the outcomes of parts 3-5.\n"
   ]
  },
  {
   "cell_type": "code",
   "execution_count": 32,
   "metadata": {},
   "outputs": [
    {
     "data": {
      "image/png": "[encoded data removed]",
      "text/plain": [
       "<Figure size 2000x300 with 3 Axes>"
      ]
     },
     "metadata": {},
     "output_type": "display_data"
    }
   ],
   "source": [
    "import matplotlib.pyplot as plt\n",
    "\n",
    "fig,(ax1, ax2 ,ax3)= plt.subplots(1,3,figsize=(20,3))\n",
    "df_sample_depressed['Alcohol_Consumption'].hist(edgecolor='black', grid=True, bins=20, ax=ax1)\n",
    "ax1.set_title(\"Alcohol consumption of depressed\")\n",
    "ax1.set_xlabel(\"Alcohol consumption\")\n",
    "ax1.set_ylabel(\"count\")\n",
    "\n",
    "\n",
    "df_sample_not_depressed['Alcohol_Consumption'].hist(edgecolor='black', grid=True, bins=20, ax=ax2)\n",
    "ax2.set_title(\"Alcohol consumption of not depressed\")\n",
    "ax2.set_xlabel(\"Alcohol consumption\")\n",
    "ax2.set_ylabel(\"count\")\n",
    "\n",
    "\n",
    "df_sample_depressed['Alcohol_Consumption'].hist(edgecolor='black', grid=True, bins=20, ax=ax3, alpha=0.5, label='depressed')\n",
    "df_sample_not_depressed['Alcohol_Consumption'].hist(edgecolor='black', grid=True, bins=20, ax=ax3, alpha=0.5, label='not depressed')\n",
    "ax3.set_title(\"Alcohol consumption of depressed and not depressed\")\n",
    "ax3.set_xlabel(\"Alcohol consumption\")\n",
    "ax3.set_ylabel(\"count\")\n",
    "plt.legend()\n",
    "plt.show()"
   ]
  },
  {
   "cell_type": "markdown",
   "metadata": {},
   "source": [
    "In all of the permutation tests we ran we rejected the Null hypothesis, thus assuming that the Distributions are Stochatically equal.\n",
    "Those conclusions sit with the histograms, because as we can see, the ratio between the distribution is kept the same, so we we can assume that the Distributions are proportional. There's a strong possibility that we got these results because we didn't work with enough samples (only 200) in refference to the entire dataset (over 300,000) or didn't do enough repetitons when we simulated the data (only B=400 simulations).\n"
   ]
  }
 ],
 "metadata": {
  "kernelspec": {
   "display_name": "base",
   "language": "python",
   "name": "python3"
  },
  "language_info": {
   "codemirror_mode": {
    "name": "ipython",
    "version": 3
   },
   "file_extension": ".py",
   "mimetype": "text/x-python",
   "name": "python",
   "nbconvert_exporter": "python",
   "pygments_lexer": "ipython3",
   "version": "3.9.7"
  }
 },
 "nbformat": 4,
 "nbformat_minor": 2
}
